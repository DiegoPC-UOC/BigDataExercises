{
 "cells": [
  {
   "cell_type": "markdown",
   "source": [
    "# Importar bibliotecas necesarias"
   ],
   "metadata": {
    "collapsed": false,
    "pycharm": {
     "name": "#%% md\n"
    }
   }
  },
  {
   "cell_type": "code",
   "execution_count": 239,
   "metadata": {
    "collapsed": true,
    "pycharm": {
     "name": "#%%\n"
    }
   },
   "outputs": [],
   "source": [
    "import pandas as pd\n",
    "import geopandas as gpd\n",
    "import matplotlib.pyplot as plt\n",
    "import numpy as np\n",
    "import seaborn as sns"
   ]
  },
  {
   "cell_type": "markdown",
   "source": [
    "# Leer Geodataframe\n",
    "Cargar el dataframe y usarlo para generar un geodataframe"
   ],
   "metadata": {
    "collapsed": false,
    "pycharm": {
     "name": "#%% md\n"
    }
   }
  },
  {
   "cell_type": "code",
   "execution_count": 240,
   "outputs": [
    {
     "data": {
      "text/plain": "      Numero_expedient  Codi_districte Nom_districte  Codi_barri  \\\n0      2017S009418                  -1    Desconegut          -1   \n1      2017S008852                  -1    Desconegut          -1   \n2      2017S001023                  10    Sant Martí          64   \n3      2017S009198                  10    Sant Martí          64   \n4      2017S006546                  10    Sant Martí          64   \n...                ...             ...           ...         ...   \n11004  2017S003667                   9   Sant Andreu          59   \n11005  2017S002192                   9   Sant Andreu          59   \n11006  2017S001766                   9   Sant Andreu          59   \n11007  2017S009106                   9   Sant Andreu          59   \n11008  2017S006503                   9   Sant Andreu          59   \n\n                        Nom_barri  Codi_carrer  \\\n0                      Desconegut           -1   \n1                      Desconegut           -1   \n2      el Camp de l'Arpa del Clot       209900   \n3      el Camp de l'Arpa del Clot       346402   \n4      el Camp de l'Arpa del Clot       297001   \n...                           ...          ...   \n11004               el Bon Pastor       701266   \n11005               el Bon Pastor        92938   \n11006               el Bon Pastor        81002   \n11007               el Bon Pastor       295709   \n11008               el Bon Pastor        81002   \n\n                                              Nom_carrer Num_postal_caption  \\\n0      Francesc Ferrer i Guàrdia / Sant Jordi        ...         Desconegut   \n1      Valldaura                                     ...         284-286      \n2      NAVAS DE TOLOSA / Av Meridiana                ...          0203 0205   \n3      Trinxant / Ruiz de Padrón                     ...          0090 0090   \n4      Sant Antoni Maria Claret                      ...          0330 0332   \n...                                                  ...                ...   \n11004  Litoral (Llobregat)                           ...             140000   \n11005  POTOSÍ                                        ...          0000 0000   \n11006  ARBECA                                        ...          0039 0039   \n11007  Sant Adrià                                    ...          0135 0135   \n11008  Arbeca / Claramunt                            ...          0075 0075   \n\n      Descripcio_dia_setmana Dia_setmana  ...   Nom_mes  Dia_mes  Hora_dia  \\\n0                    Dilluns          Dl  ...  Novembre       13        16   \n1                     Dijous          Dj  ...   Octubre       26         7   \n2                    Dimarts          Dm  ...    Febrer        7        15   \n3                    Dimarts          Dm  ...  Novembre        7        14   \n4                     Dijous          Dj  ...    Juliol       27        14   \n...                      ...         ...  ...       ...      ...       ...   \n11004                Dimarts          Dm  ...     Abril       25         8   \n11005               Dissabte          Ds  ...      Març       18        18   \n11006              Divendres          Dv  ...      Març        3        20   \n11007               Dissabte          Ds  ...  Novembre        4         7   \n11008                Dimarts          Dm  ...    Juliol       25        20   \n\n      Descripcio_torn  Descripcio_tipus_accident  Coordenada_UTM_X  \\\n0               Tarda                      Abast         428572.07   \n1                Matí   Col.lisió fronto-lateral         431806.60   \n2               Tarda          Col.lisió lateral         432116.48   \n3               Tarda   Col.lisió fronto-lateral         431940.75   \n4               Tarda                      Abast         431537.32   \n...               ...                        ...               ...   \n11004            Matí          Col.lisió lateral         433866.55   \n11005           Tarda   Col.lisió fronto-lateral         433404.54   \n11006           Tarda       Caiguda (dues rodes)         433745.24   \n11007            Matí              Atropellament         433747.84   \n11008           Tarda   Col.lisió fronto-lateral         433957.73   \n\n      Coordenada_UTM_Y  Longitud    Latitud                  geometry  \n0           4580031.06  2.144821  41.366779  POINT (2.14482 41.36678)  \n1           4588044.41  2.182588  41.439233  POINT (2.18259 41.43923)  \n2           4585382.72  2.186591  41.415280  POINT (2.18659 41.41528)  \n3           4585401.48  2.184483  41.415436  POINT (2.18448 41.41544)  \n4           4585363.11  2.179666  41.415060  POINT (2.17967 41.41506)  \n...                ...       ...        ...                       ...  \n11004       4588278.91  2.207212  41.441509  POINT (2.20721 41.44151)  \n11005       4587801.39  2.201735  41.437175  POINT (2.20174 41.43718)  \n11006       4587781.61  2.205818  41.437023  POINT (2.20582 41.43702)  \n11007       4587710.83  2.205850  41.436384  POINT (2.20585 41.43638)  \n11008       4587814.72  2.208352  41.437338  POINT (2.20835 41.43734)  \n\n[11009 rows x 23 columns]",
      "text/html": "<div>\n<style scoped>\n    .dataframe tbody tr th:only-of-type {\n        vertical-align: middle;\n    }\n\n    .dataframe tbody tr th {\n        vertical-align: top;\n    }\n\n    .dataframe thead th {\n        text-align: right;\n    }\n</style>\n<table border=\"1\" class=\"dataframe\">\n  <thead>\n    <tr style=\"text-align: right;\">\n      <th></th>\n      <th>Numero_expedient</th>\n      <th>Codi_districte</th>\n      <th>Nom_districte</th>\n      <th>Codi_barri</th>\n      <th>Nom_barri</th>\n      <th>Codi_carrer</th>\n      <th>Nom_carrer</th>\n      <th>Num_postal_caption</th>\n      <th>Descripcio_dia_setmana</th>\n      <th>Dia_setmana</th>\n      <th>...</th>\n      <th>Nom_mes</th>\n      <th>Dia_mes</th>\n      <th>Hora_dia</th>\n      <th>Descripcio_torn</th>\n      <th>Descripcio_tipus_accident</th>\n      <th>Coordenada_UTM_X</th>\n      <th>Coordenada_UTM_Y</th>\n      <th>Longitud</th>\n      <th>Latitud</th>\n      <th>geometry</th>\n    </tr>\n  </thead>\n  <tbody>\n    <tr>\n      <th>0</th>\n      <td>2017S009418</td>\n      <td>-1</td>\n      <td>Desconegut</td>\n      <td>-1</td>\n      <td>Desconegut</td>\n      <td>-1</td>\n      <td>Francesc Ferrer i Guàrdia / Sant Jordi        ...</td>\n      <td>Desconegut</td>\n      <td>Dilluns</td>\n      <td>Dl</td>\n      <td>...</td>\n      <td>Novembre</td>\n      <td>13</td>\n      <td>16</td>\n      <td>Tarda</td>\n      <td>Abast</td>\n      <td>428572.07</td>\n      <td>4580031.06</td>\n      <td>2.144821</td>\n      <td>41.366779</td>\n      <td>POINT (2.14482 41.36678)</td>\n    </tr>\n    <tr>\n      <th>1</th>\n      <td>2017S008852</td>\n      <td>-1</td>\n      <td>Desconegut</td>\n      <td>-1</td>\n      <td>Desconegut</td>\n      <td>-1</td>\n      <td>Valldaura                                     ...</td>\n      <td>284-286</td>\n      <td>Dijous</td>\n      <td>Dj</td>\n      <td>...</td>\n      <td>Octubre</td>\n      <td>26</td>\n      <td>7</td>\n      <td>Matí</td>\n      <td>Col.lisió fronto-lateral</td>\n      <td>431806.60</td>\n      <td>4588044.41</td>\n      <td>2.182588</td>\n      <td>41.439233</td>\n      <td>POINT (2.18259 41.43923)</td>\n    </tr>\n    <tr>\n      <th>2</th>\n      <td>2017S001023</td>\n      <td>10</td>\n      <td>Sant Martí</td>\n      <td>64</td>\n      <td>el Camp de l'Arpa del Clot</td>\n      <td>209900</td>\n      <td>NAVAS DE TOLOSA / Av Meridiana                ...</td>\n      <td>0203 0205</td>\n      <td>Dimarts</td>\n      <td>Dm</td>\n      <td>...</td>\n      <td>Febrer</td>\n      <td>7</td>\n      <td>15</td>\n      <td>Tarda</td>\n      <td>Col.lisió lateral</td>\n      <td>432116.48</td>\n      <td>4585382.72</td>\n      <td>2.186591</td>\n      <td>41.415280</td>\n      <td>POINT (2.18659 41.41528)</td>\n    </tr>\n    <tr>\n      <th>3</th>\n      <td>2017S009198</td>\n      <td>10</td>\n      <td>Sant Martí</td>\n      <td>64</td>\n      <td>el Camp de l'Arpa del Clot</td>\n      <td>346402</td>\n      <td>Trinxant / Ruiz de Padrón                     ...</td>\n      <td>0090 0090</td>\n      <td>Dimarts</td>\n      <td>Dm</td>\n      <td>...</td>\n      <td>Novembre</td>\n      <td>7</td>\n      <td>14</td>\n      <td>Tarda</td>\n      <td>Col.lisió fronto-lateral</td>\n      <td>431940.75</td>\n      <td>4585401.48</td>\n      <td>2.184483</td>\n      <td>41.415436</td>\n      <td>POINT (2.18448 41.41544)</td>\n    </tr>\n    <tr>\n      <th>4</th>\n      <td>2017S006546</td>\n      <td>10</td>\n      <td>Sant Martí</td>\n      <td>64</td>\n      <td>el Camp de l'Arpa del Clot</td>\n      <td>297001</td>\n      <td>Sant Antoni Maria Claret                      ...</td>\n      <td>0330 0332</td>\n      <td>Dijous</td>\n      <td>Dj</td>\n      <td>...</td>\n      <td>Juliol</td>\n      <td>27</td>\n      <td>14</td>\n      <td>Tarda</td>\n      <td>Abast</td>\n      <td>431537.32</td>\n      <td>4585363.11</td>\n      <td>2.179666</td>\n      <td>41.415060</td>\n      <td>POINT (2.17967 41.41506)</td>\n    </tr>\n    <tr>\n      <th>...</th>\n      <td>...</td>\n      <td>...</td>\n      <td>...</td>\n      <td>...</td>\n      <td>...</td>\n      <td>...</td>\n      <td>...</td>\n      <td>...</td>\n      <td>...</td>\n      <td>...</td>\n      <td>...</td>\n      <td>...</td>\n      <td>...</td>\n      <td>...</td>\n      <td>...</td>\n      <td>...</td>\n      <td>...</td>\n      <td>...</td>\n      <td>...</td>\n      <td>...</td>\n      <td>...</td>\n    </tr>\n    <tr>\n      <th>11004</th>\n      <td>2017S003667</td>\n      <td>9</td>\n      <td>Sant Andreu</td>\n      <td>59</td>\n      <td>el Bon Pastor</td>\n      <td>701266</td>\n      <td>Litoral (Llobregat)                           ...</td>\n      <td>140000</td>\n      <td>Dimarts</td>\n      <td>Dm</td>\n      <td>...</td>\n      <td>Abril</td>\n      <td>25</td>\n      <td>8</td>\n      <td>Matí</td>\n      <td>Col.lisió lateral</td>\n      <td>433866.55</td>\n      <td>4588278.91</td>\n      <td>2.207212</td>\n      <td>41.441509</td>\n      <td>POINT (2.20721 41.44151)</td>\n    </tr>\n    <tr>\n      <th>11005</th>\n      <td>2017S002192</td>\n      <td>9</td>\n      <td>Sant Andreu</td>\n      <td>59</td>\n      <td>el Bon Pastor</td>\n      <td>92938</td>\n      <td>POTOSÍ                                        ...</td>\n      <td>0000 0000</td>\n      <td>Dissabte</td>\n      <td>Ds</td>\n      <td>...</td>\n      <td>Març</td>\n      <td>18</td>\n      <td>18</td>\n      <td>Tarda</td>\n      <td>Col.lisió fronto-lateral</td>\n      <td>433404.54</td>\n      <td>4587801.39</td>\n      <td>2.201735</td>\n      <td>41.437175</td>\n      <td>POINT (2.20174 41.43718)</td>\n    </tr>\n    <tr>\n      <th>11006</th>\n      <td>2017S001766</td>\n      <td>9</td>\n      <td>Sant Andreu</td>\n      <td>59</td>\n      <td>el Bon Pastor</td>\n      <td>81002</td>\n      <td>ARBECA                                        ...</td>\n      <td>0039 0039</td>\n      <td>Divendres</td>\n      <td>Dv</td>\n      <td>...</td>\n      <td>Març</td>\n      <td>3</td>\n      <td>20</td>\n      <td>Tarda</td>\n      <td>Caiguda (dues rodes)</td>\n      <td>433745.24</td>\n      <td>4587781.61</td>\n      <td>2.205818</td>\n      <td>41.437023</td>\n      <td>POINT (2.20582 41.43702)</td>\n    </tr>\n    <tr>\n      <th>11007</th>\n      <td>2017S009106</td>\n      <td>9</td>\n      <td>Sant Andreu</td>\n      <td>59</td>\n      <td>el Bon Pastor</td>\n      <td>295709</td>\n      <td>Sant Adrià                                    ...</td>\n      <td>0135 0135</td>\n      <td>Dissabte</td>\n      <td>Ds</td>\n      <td>...</td>\n      <td>Novembre</td>\n      <td>4</td>\n      <td>7</td>\n      <td>Matí</td>\n      <td>Atropellament</td>\n      <td>433747.84</td>\n      <td>4587710.83</td>\n      <td>2.205850</td>\n      <td>41.436384</td>\n      <td>POINT (2.20585 41.43638)</td>\n    </tr>\n    <tr>\n      <th>11008</th>\n      <td>2017S006503</td>\n      <td>9</td>\n      <td>Sant Andreu</td>\n      <td>59</td>\n      <td>el Bon Pastor</td>\n      <td>81002</td>\n      <td>Arbeca / Claramunt                            ...</td>\n      <td>0075 0075</td>\n      <td>Dimarts</td>\n      <td>Dm</td>\n      <td>...</td>\n      <td>Juliol</td>\n      <td>25</td>\n      <td>20</td>\n      <td>Tarda</td>\n      <td>Col.lisió fronto-lateral</td>\n      <td>433957.73</td>\n      <td>4587814.72</td>\n      <td>2.208352</td>\n      <td>41.437338</td>\n      <td>POINT (2.20835 41.43734)</td>\n    </tr>\n  </tbody>\n</table>\n<p>11009 rows × 23 columns</p>\n</div>"
     },
     "execution_count": 240,
     "metadata": {},
     "output_type": "execute_result"
    }
   ],
   "source": [
    "csv_file = '2017_accidents_tipus_gu_bcn_.csv'\n",
    "df = pd.read_csv(csv_file)\n",
    "gdf = gpd.GeoDataFrame(df, geometry=gpd.points_from_xy(df.Longitud, df.Latitud))\n",
    "gdf"
   ],
   "metadata": {
    "collapsed": false,
    "pycharm": {
     "name": "#%%\n"
    }
   }
  },
  {
   "cell_type": "markdown",
   "source": [
    "# Calcular matriz de correlación"
   ],
   "metadata": {
    "collapsed": false,
    "pycharm": {
     "name": "#%% md\n"
    }
   }
  },
  {
   "cell_type": "markdown",
   "source": [
    "## Mostrar prueba de datos\n",
    "Mostrar los primeros registros del geodataframe"
   ],
   "metadata": {
    "collapsed": false,
    "pycharm": {
     "name": "#%% md\n"
    }
   }
  },
  {
   "cell_type": "code",
   "execution_count": 241,
   "outputs": [
    {
     "data": {
      "text/plain": "  Numero_expedient  Codi_districte Nom_districte  Codi_barri  \\\n0  2017S009418                  -1    Desconegut          -1   \n1  2017S008852                  -1    Desconegut          -1   \n2  2017S001023                  10    Sant Martí          64   \n3  2017S009198                  10    Sant Martí          64   \n4  2017S006546                  10    Sant Martí          64   \n\n                    Nom_barri  Codi_carrer  \\\n0                  Desconegut           -1   \n1                  Desconegut           -1   \n2  el Camp de l'Arpa del Clot       209900   \n3  el Camp de l'Arpa del Clot       346402   \n4  el Camp de l'Arpa del Clot       297001   \n\n                                          Nom_carrer Num_postal_caption  \\\n0  Francesc Ferrer i Guàrdia / Sant Jordi        ...         Desconegut   \n1  Valldaura                                     ...         284-286      \n2  NAVAS DE TOLOSA / Av Meridiana                ...          0203 0205   \n3  Trinxant / Ruiz de Padrón                     ...          0090 0090   \n4  Sant Antoni Maria Claret                      ...          0330 0332   \n\n  Descripcio_dia_setmana Dia_setmana  ...   Nom_mes  Dia_mes  Hora_dia  \\\n0                Dilluns          Dl  ...  Novembre       13        16   \n1                 Dijous          Dj  ...   Octubre       26         7   \n2                Dimarts          Dm  ...    Febrer        7        15   \n3                Dimarts          Dm  ...  Novembre        7        14   \n4                 Dijous          Dj  ...    Juliol       27        14   \n\n  Descripcio_torn  Descripcio_tipus_accident  Coordenada_UTM_X  \\\n0           Tarda                      Abast         428572.07   \n1            Matí   Col.lisió fronto-lateral         431806.60   \n2           Tarda          Col.lisió lateral         432116.48   \n3           Tarda   Col.lisió fronto-lateral         431940.75   \n4           Tarda                      Abast         431537.32   \n\n  Coordenada_UTM_Y  Longitud    Latitud                  geometry  \n0       4580031.06  2.144821  41.366779  POINT (2.14482 41.36678)  \n1       4588044.41  2.182588  41.439233  POINT (2.18259 41.43923)  \n2       4585382.72  2.186591  41.415280  POINT (2.18659 41.41528)  \n3       4585401.48  2.184483  41.415436  POINT (2.18448 41.41544)  \n4       4585363.11  2.179666  41.415060  POINT (2.17967 41.41506)  \n\n[5 rows x 23 columns]",
      "text/html": "<div>\n<style scoped>\n    .dataframe tbody tr th:only-of-type {\n        vertical-align: middle;\n    }\n\n    .dataframe tbody tr th {\n        vertical-align: top;\n    }\n\n    .dataframe thead th {\n        text-align: right;\n    }\n</style>\n<table border=\"1\" class=\"dataframe\">\n  <thead>\n    <tr style=\"text-align: right;\">\n      <th></th>\n      <th>Numero_expedient</th>\n      <th>Codi_districte</th>\n      <th>Nom_districte</th>\n      <th>Codi_barri</th>\n      <th>Nom_barri</th>\n      <th>Codi_carrer</th>\n      <th>Nom_carrer</th>\n      <th>Num_postal_caption</th>\n      <th>Descripcio_dia_setmana</th>\n      <th>Dia_setmana</th>\n      <th>...</th>\n      <th>Nom_mes</th>\n      <th>Dia_mes</th>\n      <th>Hora_dia</th>\n      <th>Descripcio_torn</th>\n      <th>Descripcio_tipus_accident</th>\n      <th>Coordenada_UTM_X</th>\n      <th>Coordenada_UTM_Y</th>\n      <th>Longitud</th>\n      <th>Latitud</th>\n      <th>geometry</th>\n    </tr>\n  </thead>\n  <tbody>\n    <tr>\n      <th>0</th>\n      <td>2017S009418</td>\n      <td>-1</td>\n      <td>Desconegut</td>\n      <td>-1</td>\n      <td>Desconegut</td>\n      <td>-1</td>\n      <td>Francesc Ferrer i Guàrdia / Sant Jordi        ...</td>\n      <td>Desconegut</td>\n      <td>Dilluns</td>\n      <td>Dl</td>\n      <td>...</td>\n      <td>Novembre</td>\n      <td>13</td>\n      <td>16</td>\n      <td>Tarda</td>\n      <td>Abast</td>\n      <td>428572.07</td>\n      <td>4580031.06</td>\n      <td>2.144821</td>\n      <td>41.366779</td>\n      <td>POINT (2.14482 41.36678)</td>\n    </tr>\n    <tr>\n      <th>1</th>\n      <td>2017S008852</td>\n      <td>-1</td>\n      <td>Desconegut</td>\n      <td>-1</td>\n      <td>Desconegut</td>\n      <td>-1</td>\n      <td>Valldaura                                     ...</td>\n      <td>284-286</td>\n      <td>Dijous</td>\n      <td>Dj</td>\n      <td>...</td>\n      <td>Octubre</td>\n      <td>26</td>\n      <td>7</td>\n      <td>Matí</td>\n      <td>Col.lisió fronto-lateral</td>\n      <td>431806.60</td>\n      <td>4588044.41</td>\n      <td>2.182588</td>\n      <td>41.439233</td>\n      <td>POINT (2.18259 41.43923)</td>\n    </tr>\n    <tr>\n      <th>2</th>\n      <td>2017S001023</td>\n      <td>10</td>\n      <td>Sant Martí</td>\n      <td>64</td>\n      <td>el Camp de l'Arpa del Clot</td>\n      <td>209900</td>\n      <td>NAVAS DE TOLOSA / Av Meridiana                ...</td>\n      <td>0203 0205</td>\n      <td>Dimarts</td>\n      <td>Dm</td>\n      <td>...</td>\n      <td>Febrer</td>\n      <td>7</td>\n      <td>15</td>\n      <td>Tarda</td>\n      <td>Col.lisió lateral</td>\n      <td>432116.48</td>\n      <td>4585382.72</td>\n      <td>2.186591</td>\n      <td>41.415280</td>\n      <td>POINT (2.18659 41.41528)</td>\n    </tr>\n    <tr>\n      <th>3</th>\n      <td>2017S009198</td>\n      <td>10</td>\n      <td>Sant Martí</td>\n      <td>64</td>\n      <td>el Camp de l'Arpa del Clot</td>\n      <td>346402</td>\n      <td>Trinxant / Ruiz de Padrón                     ...</td>\n      <td>0090 0090</td>\n      <td>Dimarts</td>\n      <td>Dm</td>\n      <td>...</td>\n      <td>Novembre</td>\n      <td>7</td>\n      <td>14</td>\n      <td>Tarda</td>\n      <td>Col.lisió fronto-lateral</td>\n      <td>431940.75</td>\n      <td>4585401.48</td>\n      <td>2.184483</td>\n      <td>41.415436</td>\n      <td>POINT (2.18448 41.41544)</td>\n    </tr>\n    <tr>\n      <th>4</th>\n      <td>2017S006546</td>\n      <td>10</td>\n      <td>Sant Martí</td>\n      <td>64</td>\n      <td>el Camp de l'Arpa del Clot</td>\n      <td>297001</td>\n      <td>Sant Antoni Maria Claret                      ...</td>\n      <td>0330 0332</td>\n      <td>Dijous</td>\n      <td>Dj</td>\n      <td>...</td>\n      <td>Juliol</td>\n      <td>27</td>\n      <td>14</td>\n      <td>Tarda</td>\n      <td>Abast</td>\n      <td>431537.32</td>\n      <td>4585363.11</td>\n      <td>2.179666</td>\n      <td>41.415060</td>\n      <td>POINT (2.17967 41.41506)</td>\n    </tr>\n  </tbody>\n</table>\n<p>5 rows × 23 columns</p>\n</div>"
     },
     "execution_count": 241,
     "metadata": {},
     "output_type": "execute_result"
    }
   ],
   "source": [
    "gdf.head()"
   ],
   "metadata": {
    "collapsed": false,
    "pycharm": {
     "name": "#%%\n"
    }
   }
  },
  {
   "cell_type": "markdown",
   "source": [
    "## Matriz de correlación\n",
    "Crear una matriz de correlación a partir de un geodataframe"
   ],
   "metadata": {
    "collapsed": false,
    "pycharm": {
     "name": "#%% md\n"
    }
   }
  },
  {
   "cell_type": "code",
   "execution_count": 242,
   "outputs": [
    {
     "data": {
      "text/plain": "                  Codi_districte  Codi_barri  Codi_carrer  Any   Mes_any  \\\nCodi_districte          1.000000    0.987637     0.159871  NaN  0.008895   \nCodi_barri              0.987637    1.000000     0.163730  NaN  0.011285   \nCodi_carrer             0.159871    0.163730     1.000000  NaN  0.059760   \nAny                          NaN         NaN          NaN  NaN       NaN   \nMes_any                 0.008895    0.011285     0.059760  NaN  1.000000   \nDia_mes                -0.010874   -0.012072     0.014360  NaN  0.020487   \nHora_dia               -0.014116   -0.014088    -0.025352  NaN -0.000820   \nCoordenada_UTM_X        0.440822    0.503770     0.088450  NaN  0.025905   \nCoordenada_UTM_Y        0.637332    0.611668     0.003130  NaN  0.000643   \nLongitud                0.011507    0.010855    -0.013342  NaN  0.003324   \nLatitud                 0.005310    0.005858     0.005060  NaN  0.000141   \n\n                   Dia_mes  Hora_dia  Coordenada_UTM_X  Coordenada_UTM_Y  \\\nCodi_districte   -0.010874 -0.014116          0.440822          0.637332   \nCodi_barri       -0.012072 -0.014088          0.503770          0.611668   \nCodi_carrer       0.014360 -0.025352          0.088450          0.003130   \nAny                    NaN       NaN               NaN               NaN   \nMes_any           0.020487 -0.000820          0.025905          0.000643   \nDia_mes           1.000000  0.012878         -0.018346         -0.007369   \nHora_dia          0.012878  1.000000         -0.004796          0.013453   \nCoordenada_UTM_X -0.018346 -0.004796          1.000000          0.408751   \nCoordenada_UTM_Y -0.007369  0.013453          0.408751          1.000000   \nLongitud         -0.003306  0.001704         -0.003007          0.009872   \nLatitud          -0.013499  0.018309          0.009063         -0.003349   \n\n                  Longitud   Latitud  \nCodi_districte    0.011507  0.005310  \nCodi_barri        0.010855  0.005858  \nCodi_carrer      -0.013342  0.005060  \nAny                    NaN       NaN  \nMes_any           0.003324  0.000141  \nDia_mes          -0.003306 -0.013499  \nHora_dia          0.001704  0.018309  \nCoordenada_UTM_X -0.003007  0.009063  \nCoordenada_UTM_Y  0.009872 -0.003349  \nLongitud          1.000000 -0.000282  \nLatitud          -0.000282  1.000000  ",
      "text/html": "<div>\n<style scoped>\n    .dataframe tbody tr th:only-of-type {\n        vertical-align: middle;\n    }\n\n    .dataframe tbody tr th {\n        vertical-align: top;\n    }\n\n    .dataframe thead th {\n        text-align: right;\n    }\n</style>\n<table border=\"1\" class=\"dataframe\">\n  <thead>\n    <tr style=\"text-align: right;\">\n      <th></th>\n      <th>Codi_districte</th>\n      <th>Codi_barri</th>\n      <th>Codi_carrer</th>\n      <th>Any</th>\n      <th>Mes_any</th>\n      <th>Dia_mes</th>\n      <th>Hora_dia</th>\n      <th>Coordenada_UTM_X</th>\n      <th>Coordenada_UTM_Y</th>\n      <th>Longitud</th>\n      <th>Latitud</th>\n    </tr>\n  </thead>\n  <tbody>\n    <tr>\n      <th>Codi_districte</th>\n      <td>1.000000</td>\n      <td>0.987637</td>\n      <td>0.159871</td>\n      <td>NaN</td>\n      <td>0.008895</td>\n      <td>-0.010874</td>\n      <td>-0.014116</td>\n      <td>0.440822</td>\n      <td>0.637332</td>\n      <td>0.011507</td>\n      <td>0.005310</td>\n    </tr>\n    <tr>\n      <th>Codi_barri</th>\n      <td>0.987637</td>\n      <td>1.000000</td>\n      <td>0.163730</td>\n      <td>NaN</td>\n      <td>0.011285</td>\n      <td>-0.012072</td>\n      <td>-0.014088</td>\n      <td>0.503770</td>\n      <td>0.611668</td>\n      <td>0.010855</td>\n      <td>0.005858</td>\n    </tr>\n    <tr>\n      <th>Codi_carrer</th>\n      <td>0.159871</td>\n      <td>0.163730</td>\n      <td>1.000000</td>\n      <td>NaN</td>\n      <td>0.059760</td>\n      <td>0.014360</td>\n      <td>-0.025352</td>\n      <td>0.088450</td>\n      <td>0.003130</td>\n      <td>-0.013342</td>\n      <td>0.005060</td>\n    </tr>\n    <tr>\n      <th>Any</th>\n      <td>NaN</td>\n      <td>NaN</td>\n      <td>NaN</td>\n      <td>NaN</td>\n      <td>NaN</td>\n      <td>NaN</td>\n      <td>NaN</td>\n      <td>NaN</td>\n      <td>NaN</td>\n      <td>NaN</td>\n      <td>NaN</td>\n    </tr>\n    <tr>\n      <th>Mes_any</th>\n      <td>0.008895</td>\n      <td>0.011285</td>\n      <td>0.059760</td>\n      <td>NaN</td>\n      <td>1.000000</td>\n      <td>0.020487</td>\n      <td>-0.000820</td>\n      <td>0.025905</td>\n      <td>0.000643</td>\n      <td>0.003324</td>\n      <td>0.000141</td>\n    </tr>\n    <tr>\n      <th>Dia_mes</th>\n      <td>-0.010874</td>\n      <td>-0.012072</td>\n      <td>0.014360</td>\n      <td>NaN</td>\n      <td>0.020487</td>\n      <td>1.000000</td>\n      <td>0.012878</td>\n      <td>-0.018346</td>\n      <td>-0.007369</td>\n      <td>-0.003306</td>\n      <td>-0.013499</td>\n    </tr>\n    <tr>\n      <th>Hora_dia</th>\n      <td>-0.014116</td>\n      <td>-0.014088</td>\n      <td>-0.025352</td>\n      <td>NaN</td>\n      <td>-0.000820</td>\n      <td>0.012878</td>\n      <td>1.000000</td>\n      <td>-0.004796</td>\n      <td>0.013453</td>\n      <td>0.001704</td>\n      <td>0.018309</td>\n    </tr>\n    <tr>\n      <th>Coordenada_UTM_X</th>\n      <td>0.440822</td>\n      <td>0.503770</td>\n      <td>0.088450</td>\n      <td>NaN</td>\n      <td>0.025905</td>\n      <td>-0.018346</td>\n      <td>-0.004796</td>\n      <td>1.000000</td>\n      <td>0.408751</td>\n      <td>-0.003007</td>\n      <td>0.009063</td>\n    </tr>\n    <tr>\n      <th>Coordenada_UTM_Y</th>\n      <td>0.637332</td>\n      <td>0.611668</td>\n      <td>0.003130</td>\n      <td>NaN</td>\n      <td>0.000643</td>\n      <td>-0.007369</td>\n      <td>0.013453</td>\n      <td>0.408751</td>\n      <td>1.000000</td>\n      <td>0.009872</td>\n      <td>-0.003349</td>\n    </tr>\n    <tr>\n      <th>Longitud</th>\n      <td>0.011507</td>\n      <td>0.010855</td>\n      <td>-0.013342</td>\n      <td>NaN</td>\n      <td>0.003324</td>\n      <td>-0.003306</td>\n      <td>0.001704</td>\n      <td>-0.003007</td>\n      <td>0.009872</td>\n      <td>1.000000</td>\n      <td>-0.000282</td>\n    </tr>\n    <tr>\n      <th>Latitud</th>\n      <td>0.005310</td>\n      <td>0.005858</td>\n      <td>0.005060</td>\n      <td>NaN</td>\n      <td>0.000141</td>\n      <td>-0.013499</td>\n      <td>0.018309</td>\n      <td>0.009063</td>\n      <td>-0.003349</td>\n      <td>-0.000282</td>\n      <td>1.000000</td>\n    </tr>\n  </tbody>\n</table>\n</div>"
     },
     "execution_count": 242,
     "metadata": {},
     "output_type": "execute_result"
    }
   ],
   "source": [
    "corr = gdf.corr()\n",
    "corr"
   ],
   "metadata": {
    "collapsed": false,
    "pycharm": {
     "name": "#%%\n"
    }
   }
  },
  {
   "cell_type": "markdown",
   "source": [
    "# Máscara del triangulo superior\n",
    "Generar una máscara para el triángulo superior del mapa de calor"
   ],
   "metadata": {
    "collapsed": false,
    "pycharm": {
     "name": "#%% md\n"
    }
   }
  },
  {
   "cell_type": "code",
   "execution_count": 243,
   "outputs": [],
   "source": [
    "mask = np.zeros_like(corr, dtype=bool)\n",
    "mask[np.triu_indices_from(mask)] = True"
   ],
   "metadata": {
    "collapsed": false,
    "pycharm": {
     "name": "#%%\n"
    }
   }
  },
  {
   "cell_type": "markdown",
   "source": [
    "# Mapa de colores divergente personalizado\n",
    "Selección de paleta de colores para el mapa de calor"
   ],
   "metadata": {
    "collapsed": false,
    "pycharm": {
     "name": "#%% md\n"
    }
   }
  },
  {
   "cell_type": "code",
   "execution_count": 244,
   "outputs": [],
   "source": [
    "colorMap = sns.diverging_palette(220, 10, as_cmap=True)"
   ],
   "metadata": {
    "collapsed": false,
    "pycharm": {
     "name": "#%%\n"
    }
   }
  },
  {
   "cell_type": "markdown",
   "source": [
    "# Mapa de calor con máscara y relación de aspecto correcta\n",
    "Generar mapa de calor usando la matriz de correlación y la máscara para el triángulo superior que creamos anteriormente"
   ],
   "metadata": {
    "collapsed": false,
    "pycharm": {
     "name": "#%% md\n"
    }
   }
  },
  {
   "cell_type": "code",
   "execution_count": 245,
   "outputs": [
    {
     "data": {
      "text/plain": "<AxesSubplot:>"
     },
     "execution_count": 245,
     "metadata": {},
     "output_type": "execute_result"
    },
    {
     "data": {
      "text/plain": "<Figure size 432x288 with 2 Axes>",
      "image/png": "[encoded data removed]"
     },
     "metadata": {},
     "output_type": "display_data"
    }
   ],
   "source": [
    "sns.heatmap(corr, mask=mask, cmap=colorMap, vmax=.3, center=0, square=True, linewidths=.5, cbar_kws={\"shrink\": .5})"
   ],
   "metadata": {
    "collapsed": false,
    "pycharm": {
     "name": "#%%\n"
    }
   }
  },
  {
   "cell_type": "markdown",
   "source": [
    "# Comprobar nombres de los campos del geoframe\n",
    "Mostrar columnas del geodataframe"
   ],
   "metadata": {
    "collapsed": false,
    "pycharm": {
     "name": "#%% md\n"
    }
   }
  },
  {
   "cell_type": "code",
   "execution_count": 246,
   "outputs": [
    {
     "data": {
      "text/plain": "Index(['Numero_expedient', 'Codi_districte', 'Nom_districte', 'Codi_barri',\n       'Nom_barri', 'Codi_carrer', 'Nom_carrer', 'Num_postal_caption',\n       'Descripcio_dia_setmana', 'Dia_setmana', 'Descripcio_tipus_dia', 'Any',\n       'Mes_any', 'Nom_mes', 'Dia_mes', 'Hora_dia', 'Descripcio_torn',\n       'Descripcio_tipus_accident', 'Coordenada_UTM_X', 'Coordenada_UTM_Y',\n       'Longitud', 'Latitud', 'geometry'],\n      dtype='object')"
     },
     "execution_count": 246,
     "metadata": {},
     "output_type": "execute_result"
    }
   ],
   "source": [
    "gdf.columns"
   ],
   "metadata": {
    "collapsed": false,
    "pycharm": {
     "name": "#%%\n"
    }
   }
  },
  {
   "cell_type": "markdown",
   "source": [
    "# Importar API Statsmodel"
   ],
   "metadata": {
    "collapsed": false,
    "pycharm": {
     "name": "#%% md\n"
    }
   }
  },
  {
   "cell_type": "code",
   "execution_count": 247,
   "outputs": [],
   "source": [
    "import statsmodels.api as sm\n",
    "from sklearn.model_selection import train_test_split\n",
    "from sklearn.metrics import mean_squared_error"
   ],
   "metadata": {
    "collapsed": false,
    "pycharm": {
     "name": "#%%\n"
    }
   }
  },
  {
   "cell_type": "markdown",
   "source": [
    "# Modelo ajustado en una línea"
   ],
   "metadata": {
    "collapsed": false,
    "pycharm": {
     "name": "#%% md\n"
    }
   }
  },
  {
   "cell_type": "markdown",
   "source": [
    "## Crear un dataset a partir de el geodataset principal"
   ],
   "metadata": {
    "collapsed": false,
    "pycharm": {
     "name": "#%% md\n"
    }
   }
  },
  {
   "cell_type": "markdown",
   "source": [
    "Seleccionar columnas a usar"
   ],
   "metadata": {
    "collapsed": false,
    "pycharm": {
     "name": "#%% md\n"
    }
   }
  },
  {
   "cell_type": "code",
   "execution_count": null,
   "outputs": [],
   "source": [
    "X = gdf[['Codi_carrer']]\n",
    "y = gdf['Codi_districte']"
   ],
   "metadata": {
    "collapsed": false,
    "pycharm": {
     "name": "#%%\n"
    }
   }
  },
  {
   "cell_type": "markdown",
   "source": [
    "Realizar la separación del geodataset y crear un dataset de entrenamiento"
   ],
   "metadata": {
    "collapsed": false,
    "pycharm": {
     "name": "#%% md\n"
    }
   }
  },
  {
   "cell_type": "code",
   "execution_count": 249,
   "outputs": [],
   "source": [
    "X_train, X_test, y_train, y_test = train_test_split(\n",
    "                                        X.values.reshape(-1,1),\n",
    "                                        y.values.reshape(-1,1),\n",
    "                                        train_size   = 0.8,\n",
    "                                        random_state = 1234,\n",
    "                                        shuffle      = True\n",
    "                                    )\n",
    "data_train = pd.DataFrame(np.hstack((X_train, y_train)), columns=['Codi_carrer','Codi_districte'])"
   ],
   "metadata": {
    "collapsed": false,
    "pycharm": {
     "name": "#%%\n"
    }
   }
  },
  {
   "cell_type": "markdown",
   "source": [
    "## Creación y manipulación del modelo de regresión lineal"
   ],
   "metadata": {
    "collapsed": false,
    "pycharm": {
     "name": "#%% md\n"
    }
   }
  },
  {
   "cell_type": "markdown",
   "source": [
    "Creación del modelo de regresión lineal y ajuste del modelo"
   ],
   "metadata": {
    "collapsed": false,
    "pycharm": {
     "name": "#%% md\n"
    }
   }
  },
  {
   "cell_type": "code",
   "execution_count": 250,
   "outputs": [],
   "source": [
    "X_train = sm.add_constant(X_train, prepend=True)\n",
    "lm = sm.OLS(endog=y_train, exog=X_train,)\n",
    "lm = lm.fit()"
   ],
   "metadata": {
    "collapsed": false,
    "pycharm": {
     "name": "#%%\n"
    }
   }
  },
  {
   "cell_type": "markdown",
   "source": [
    "Mostrar parámetros"
   ],
   "metadata": {
    "collapsed": false,
    "pycharm": {
     "name": "#%% md\n"
    }
   }
  },
  {
   "cell_type": "code",
   "execution_count": 251,
   "outputs": [
    {
     "data": {
      "text/plain": "array([4.21924920e+00, 2.65656975e-06])"
     },
     "execution_count": 251,
     "metadata": {},
     "output_type": "execute_result"
    }
   ],
   "source": [
    "lm.params"
   ],
   "metadata": {
    "collapsed": false,
    "pycharm": {
     "name": "#%%\n"
    }
   }
  },
  {
   "cell_type": "markdown",
   "source": [
    "Imprimir resultados de la creación de la regresión lineal"
   ],
   "metadata": {
    "collapsed": false,
    "pycharm": {
     "name": "#%% md\n"
    }
   }
  },
  {
   "cell_type": "code",
   "execution_count": 252,
   "outputs": [
    {
     "name": "stdout",
     "output_type": "stream",
     "text": [
      "                            OLS Regression Results                            \n",
      "==============================================================================\n",
      "Dep. Variable:                      y   R-squared:                       0.028\n",
      "Model:                            OLS   Adj. R-squared:                  0.028\n",
      "Method:                 Least Squares   F-statistic:                     255.4\n",
      "Date:                Sun, 08 May 2022   Prob (F-statistic):           1.06e-56\n",
      "Time:                        13:54:22   Log-Likelihood:                -22123.\n",
      "No. Observations:                8807   AIC:                         4.425e+04\n",
      "Df Residuals:                    8805   BIC:                         4.426e+04\n",
      "Df Model:                           1                                         \n",
      "Covariance Type:            nonrobust                                         \n",
      "==============================================================================\n",
      "                 coef    std err          t      P>|t|      [0.025      0.975]\n",
      "------------------------------------------------------------------------------\n",
      "const          4.2192      0.051     83.354      0.000       4.120       4.318\n",
      "x1          2.657e-06   1.66e-07     15.982      0.000    2.33e-06    2.98e-06\n",
      "==============================================================================\n",
      "Omnibus:                     3727.785   Durbin-Watson:                   2.004\n",
      "Prob(Omnibus):                  0.000   Jarque-Bera (JB):              763.869\n",
      "Skew:                           0.471   Prob(JB):                    1.34e-166\n",
      "Kurtosis:                       1.907   Cond. No.                     4.85e+05\n",
      "==============================================================================\n",
      "\n",
      "Notes:\n",
      "[1] Standard Errors assume that the covariance matrix of the errors is correctly specified.\n",
      "[2] The condition number is large, 4.85e+05. This might indicate that there are\n",
      "strong multicollinearity or other numerical problems.\n"
     ]
    }
   ],
   "source": [
    "print(lm.summary())"
   ],
   "metadata": {
    "collapsed": false,
    "pycharm": {
     "name": "#%%\n"
    }
   }
  },
  {
   "cell_type": "markdown",
   "source": [
    "Impresión de coeficientes de regresión"
   ],
   "metadata": {
    "collapsed": false,
    "pycharm": {
     "name": "#%% md\n"
    }
   }
  },
  {
   "cell_type": "code",
   "execution_count": 253,
   "outputs": [
    {
     "data": {
      "text/plain": "array([[4.12002550e+00, 4.31847290e+00],\n       [2.33074114e-06, 2.98239835e-06]])"
     },
     "execution_count": 253,
     "metadata": {},
     "output_type": "execute_result"
    }
   ],
   "source": [
    "lm.conf_int(alpha=0.05)"
   ],
   "metadata": {
    "collapsed": false,
    "pycharm": {
     "name": "#%%\n"
    }
   }
  },
  {
   "cell_type": "markdown",
   "source": [
    "Almacenar y mostrar los datos de la predicción"
   ],
   "metadata": {
    "collapsed": false,
    "pycharm": {
     "name": "#%% md\n"
    }
   }
  },
  {
   "cell_type": "code",
   "execution_count": 254,
   "outputs": [
    {
     "data": {
      "text/plain": "       mean   mean_se  mean_ci_lower  mean_ci_upper  obs_ci_lower  \\\n0  4.603392  0.035306       4.534184       4.672600     -1.245706   \n1  4.872239  0.031827       4.809850       4.934628     -0.976782   \n2  4.647225  0.034203       4.580180       4.714270     -1.201847   \n3  5.182527  0.038039       5.107962       5.257092     -0.666637   \n\n   obs_ci_upper  \n0     10.452490  \n1     10.721260  \n2     10.496298  \n3     11.031690  ",
      "text/html": "<div>\n<style scoped>\n    .dataframe tbody tr th:only-of-type {\n        vertical-align: middle;\n    }\n\n    .dataframe tbody tr th {\n        vertical-align: top;\n    }\n\n    .dataframe thead th {\n        text-align: right;\n    }\n</style>\n<table border=\"1\" class=\"dataframe\">\n  <thead>\n    <tr style=\"text-align: right;\">\n      <th></th>\n      <th>mean</th>\n      <th>mean_se</th>\n      <th>mean_ci_lower</th>\n      <th>mean_ci_upper</th>\n      <th>obs_ci_lower</th>\n      <th>obs_ci_upper</th>\n    </tr>\n  </thead>\n  <tbody>\n    <tr>\n      <th>0</th>\n      <td>4.603392</td>\n      <td>0.035306</td>\n      <td>4.534184</td>\n      <td>4.672600</td>\n      <td>-1.245706</td>\n      <td>10.452490</td>\n    </tr>\n    <tr>\n      <th>1</th>\n      <td>4.872239</td>\n      <td>0.031827</td>\n      <td>4.809850</td>\n      <td>4.934628</td>\n      <td>-0.976782</td>\n      <td>10.721260</td>\n    </tr>\n    <tr>\n      <th>2</th>\n      <td>4.647225</td>\n      <td>0.034203</td>\n      <td>4.580180</td>\n      <td>4.714270</td>\n      <td>-1.201847</td>\n      <td>10.496298</td>\n    </tr>\n    <tr>\n      <th>3</th>\n      <td>5.182527</td>\n      <td>0.038039</td>\n      <td>5.107962</td>\n      <td>5.257092</td>\n      <td>-0.666637</td>\n      <td>11.031690</td>\n    </tr>\n  </tbody>\n</table>\n</div>"
     },
     "execution_count": 254,
     "metadata": {},
     "output_type": "execute_result"
    }
   ],
   "source": [
    "predicciones = lm.get_prediction(exog= X_train).summary_frame(alpha=0.05)\n",
    "predicciones.head(4)"
   ],
   "metadata": {
    "collapsed": false,
    "pycharm": {
     "name": "#%%\n"
    }
   }
  },
  {
   "cell_type": "markdown",
   "source": [
    "Crear predicción y almacenar datos ordenados"
   ],
   "metadata": {
    "collapsed": false,
    "pycharm": {
     "name": "#%% md\n"
    }
   }
  },
  {
   "cell_type": "code",
   "execution_count": 255,
   "outputs": [],
   "source": [
    "predicciones = lm.get_prediction(exog = X_train).summary_frame(alpha=0.05)\n",
    "predicciones['x'] = X_train[:, 1]\n",
    "predicciones['y'] = y_train\n",
    "predicciones = predicciones.sort_values('x')"
   ],
   "metadata": {
    "collapsed": false,
    "pycharm": {
     "name": "#%%\n"
    }
   }
  },
  {
   "cell_type": "markdown",
   "source": [
    "Mostrar un gráfico lineal con los datos de la predicción"
   ],
   "metadata": {
    "collapsed": false,
    "pycharm": {
     "name": "#%% md\n"
    }
   }
  },
  {
   "cell_type": "code",
   "execution_count": 256,
   "outputs": [
    {
     "data": {
      "text/plain": "<Figure size 432x276.48 with 1 Axes>",
      "image/png": "[encoded data removed]"
     },
     "metadata": {},
     "output_type": "display_data"
    }
   ],
   "source": [
    "fig, ax = plt.subplots(figsize=(6, 3.84))\n",
    "\n",
    "ax.scatter(predicciones['x'], predicciones['y'], marker='o', color = \"gray\")\n",
    "ax.plot(predicciones['x'], predicciones[\"mean\"], linestyle='-', label=\"OLS\")\n",
    "ax.plot(predicciones['x'], predicciones[\"mean_ci_lower\"], linestyle='--', color='red', label=\"95% CI\")\n",
    "ax.plot(predicciones['x'], predicciones[\"mean_ci_upper\"], linestyle='--', color='red')\n",
    "ax.fill_between(predicciones['x'], predicciones[\"mean_ci_lower\"], predicciones[\"mean_ci_upper\"], alpha=0.1)\n",
    "ax.legend();"
   ],
   "metadata": {
    "collapsed": false,
    "pycharm": {
     "name": "#%%\n"
    }
   }
  },
  {
   "cell_type": "markdown",
   "source": [
    "Obtener e imprimir error cuadrático medio"
   ],
   "metadata": {
    "collapsed": false,
    "pycharm": {
     "name": "#%% md\n"
    }
   }
  },
  {
   "cell_type": "code",
   "execution_count": 257,
   "outputs": [
    {
     "name": "stdout",
     "output_type": "stream",
     "text": [
      "\n",
      "El error (rmse) de test es: 2.9421364260943372\n"
     ]
    }
   ],
   "source": [
    "X_test = sm.add_constant(X_test, prepend=True)\n",
    "predicciones = lm.predict(exog = X_test)\n",
    "rmse = mean_squared_error(\n",
    "        y_true  = y_test,\n",
    "        y_pred  = predicciones,\n",
    "        squared = False\n",
    "       )\n",
    "print(\"\")\n",
    "print(f\"El error (rmse) de test es: {rmse}\")"
   ],
   "metadata": {
    "collapsed": false,
    "pycharm": {
     "name": "#%%\n"
    }
   }
  },
  {
   "cell_type": "markdown",
   "source": [],
   "metadata": {
    "collapsed": false,
    "pycharm": {
     "name": "#%% md\n"
    }
   }
  }
 ],
 "metadata": {
  "kernelspec": {
   "display_name": "Python 3",
   "language": "python",
   "name": "python3"
  },
  "language_info": {
   "codemirror_mode": {
    "name": "ipython",
    "version": 2
   },
   "file_extension": ".py",
   "mimetype": "text/x-python",
   "name": "python",
   "nbconvert_exporter": "python",
   "pygments_lexer": "ipython2",
   "version": "2.7.6"
  }
 },
 "nbformat": 4,
 "nbformat_minor": 0
}