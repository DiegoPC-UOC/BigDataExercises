{
 "cells": [
  {
   "cell_type": "markdown",
   "metadata": {
    "collapsed": false,
    "pycharm": {
     "name": "#%% md\n"
    }
   },
   "source": [
    "## Carga de las bibliotecas a usar"
   ]
  },
  {
   "cell_type": "code",
   "execution_count": 2,
   "id": "cbd982f2",
   "metadata": {
    "pycharm": {
     "name": "#%%\n"
    }
   },
   "outputs": [],
   "source": [
    "import pandas as pd\n",
    "import matplotlib.pyplot as plot\n",
    "import numpy as np"
   ]
  },
  {
   "cell_type": "markdown",
   "metadata": {
    "collapsed": false,
    "pycharm": {
     "name": "#%% md\n"
    }
   },
   "source": [
    "## Carga de los datos a usar\n",
    "Añadimos al script el archivo con los datos que vamos a trabajar y mostramos su contenido"
   ]
  },
  {
   "cell_type": "code",
   "execution_count": 3,
   "id": "55bfe6d7",
   "metadata": {
    "pycharm": {
     "name": "#%%\n"
    }
   },
   "outputs": [
    {
     "data": {
      "text/html": [
       "<div>\n",
       "<style scoped>\n",
       "    .dataframe tbody tr th:only-of-type {\n",
       "        vertical-align: middle;\n",
       "    }\n",
       "\n",
       "    .dataframe tbody tr th {\n",
       "        vertical-align: top;\n",
       "    }\n",
       "\n",
       "    .dataframe thead th {\n",
       "        text-align: right;\n",
       "    }\n",
       "</style>\n",
       "<table border=\"1\" class=\"dataframe\">\n",
       "  <thead>\n",
       "    <tr style=\"text-align: right;\">\n",
       "      <th></th>\n",
       "      <th>Numero_expedient</th>\n",
       "      <th>Codi_districte</th>\n",
       "      <th>Nom_districte</th>\n",
       "      <th>Codi_barri</th>\n",
       "      <th>Nom_barri</th>\n",
       "      <th>Codi_carrer</th>\n",
       "      <th>Nom_carrer</th>\n",
       "      <th>Num_postal_caption</th>\n",
       "      <th>Descripcio_dia_setmana</th>\n",
       "      <th>Dia_setmana</th>\n",
       "      <th>...</th>\n",
       "      <th>Mes_any</th>\n",
       "      <th>Nom_mes</th>\n",
       "      <th>Dia_mes</th>\n",
       "      <th>Hora_dia</th>\n",
       "      <th>Descripcio_torn</th>\n",
       "      <th>Descripcio_tipus_accident</th>\n",
       "      <th>Coordenada_UTM_X</th>\n",
       "      <th>Coordenada_UTM_Y</th>\n",
       "      <th>Longitud</th>\n",
       "      <th>Latitud</th>\n",
       "    </tr>\n",
       "  </thead>\n",
       "  <tbody>\n",
       "    <tr>\n",
       "      <th>0</th>\n",
       "      <td>2017S009418</td>\n",
       "      <td>-1</td>\n",
       "      <td>Desconegut</td>\n",
       "      <td>-1</td>\n",
       "      <td>Desconegut</td>\n",
       "      <td>-1</td>\n",
       "      <td>Francesc Ferrer i Guàrdia / Sant Jordi        ...</td>\n",
       "      <td>Desconegut</td>\n",
       "      <td>Dilluns</td>\n",
       "      <td>Dl</td>\n",
       "      <td>...</td>\n",
       "      <td>11</td>\n",
       "      <td>Novembre</td>\n",
       "      <td>13</td>\n",
       "      <td>16</td>\n",
       "      <td>Tarda</td>\n",
       "      <td>Abast</td>\n",
       "      <td>428572.07</td>\n",
       "      <td>4580031.06</td>\n",
       "      <td>2.144821</td>\n",
       "      <td>41.366779</td>\n",
       "    </tr>\n",
       "    <tr>\n",
       "      <th>1</th>\n",
       "      <td>2017S008852</td>\n",
       "      <td>-1</td>\n",
       "      <td>Desconegut</td>\n",
       "      <td>-1</td>\n",
       "      <td>Desconegut</td>\n",
       "      <td>-1</td>\n",
       "      <td>Valldaura                                     ...</td>\n",
       "      <td>284-286</td>\n",
       "      <td>Dijous</td>\n",
       "      <td>Dj</td>\n",
       "      <td>...</td>\n",
       "      <td>10</td>\n",
       "      <td>Octubre</td>\n",
       "      <td>26</td>\n",
       "      <td>7</td>\n",
       "      <td>Matí</td>\n",
       "      <td>Col.lisió fronto-lateral</td>\n",
       "      <td>431806.60</td>\n",
       "      <td>4588044.41</td>\n",
       "      <td>2.182588</td>\n",
       "      <td>41.439233</td>\n",
       "    </tr>\n",
       "    <tr>\n",
       "      <th>2</th>\n",
       "      <td>2017S001023</td>\n",
       "      <td>10</td>\n",
       "      <td>Sant Martí</td>\n",
       "      <td>64</td>\n",
       "      <td>el Camp de l'Arpa del Clot</td>\n",
       "      <td>209900</td>\n",
       "      <td>NAVAS DE TOLOSA / Av Meridiana                ...</td>\n",
       "      <td>0203 0205</td>\n",
       "      <td>Dimarts</td>\n",
       "      <td>Dm</td>\n",
       "      <td>...</td>\n",
       "      <td>2</td>\n",
       "      <td>Febrer</td>\n",
       "      <td>7</td>\n",
       "      <td>15</td>\n",
       "      <td>Tarda</td>\n",
       "      <td>Col.lisió lateral</td>\n",
       "      <td>432116.48</td>\n",
       "      <td>4585382.72</td>\n",
       "      <td>2.186591</td>\n",
       "      <td>41.415280</td>\n",
       "    </tr>\n",
       "    <tr>\n",
       "      <th>3</th>\n",
       "      <td>2017S009198</td>\n",
       "      <td>10</td>\n",
       "      <td>Sant Martí</td>\n",
       "      <td>64</td>\n",
       "      <td>el Camp de l'Arpa del Clot</td>\n",
       "      <td>346402</td>\n",
       "      <td>Trinxant / Ruiz de Padrón                     ...</td>\n",
       "      <td>0090 0090</td>\n",
       "      <td>Dimarts</td>\n",
       "      <td>Dm</td>\n",
       "      <td>...</td>\n",
       "      <td>11</td>\n",
       "      <td>Novembre</td>\n",
       "      <td>7</td>\n",
       "      <td>14</td>\n",
       "      <td>Tarda</td>\n",
       "      <td>Col.lisió fronto-lateral</td>\n",
       "      <td>431940.75</td>\n",
       "      <td>4585401.48</td>\n",
       "      <td>2.184483</td>\n",
       "      <td>41.415436</td>\n",
       "    </tr>\n",
       "    <tr>\n",
       "      <th>4</th>\n",
       "      <td>2017S006546</td>\n",
       "      <td>10</td>\n",
       "      <td>Sant Martí</td>\n",
       "      <td>64</td>\n",
       "      <td>el Camp de l'Arpa del Clot</td>\n",
       "      <td>297001</td>\n",
       "      <td>Sant Antoni Maria Claret                      ...</td>\n",
       "      <td>0330 0332</td>\n",
       "      <td>Dijous</td>\n",
       "      <td>Dj</td>\n",
       "      <td>...</td>\n",
       "      <td>7</td>\n",
       "      <td>Juliol</td>\n",
       "      <td>27</td>\n",
       "      <td>14</td>\n",
       "      <td>Tarda</td>\n",
       "      <td>Abast</td>\n",
       "      <td>431537.32</td>\n",
       "      <td>4585363.11</td>\n",
       "      <td>2.179666</td>\n",
       "      <td>41.415060</td>\n",
       "    </tr>\n",
       "    <tr>\n",
       "      <th>...</th>\n",
       "      <td>...</td>\n",
       "      <td>...</td>\n",
       "      <td>...</td>\n",
       "      <td>...</td>\n",
       "      <td>...</td>\n",
       "      <td>...</td>\n",
       "      <td>...</td>\n",
       "      <td>...</td>\n",
       "      <td>...</td>\n",
       "      <td>...</td>\n",
       "      <td>...</td>\n",
       "      <td>...</td>\n",
       "      <td>...</td>\n",
       "      <td>...</td>\n",
       "      <td>...</td>\n",
       "      <td>...</td>\n",
       "      <td>...</td>\n",
       "      <td>...</td>\n",
       "      <td>...</td>\n",
       "      <td>...</td>\n",
       "      <td>...</td>\n",
       "    </tr>\n",
       "    <tr>\n",
       "      <th>11004</th>\n",
       "      <td>2017S003667</td>\n",
       "      <td>9</td>\n",
       "      <td>Sant Andreu</td>\n",
       "      <td>59</td>\n",
       "      <td>el Bon Pastor</td>\n",
       "      <td>701266</td>\n",
       "      <td>Litoral (Llobregat)                           ...</td>\n",
       "      <td>140000</td>\n",
       "      <td>Dimarts</td>\n",
       "      <td>Dm</td>\n",
       "      <td>...</td>\n",
       "      <td>4</td>\n",
       "      <td>Abril</td>\n",
       "      <td>25</td>\n",
       "      <td>8</td>\n",
       "      <td>Matí</td>\n",
       "      <td>Col.lisió lateral</td>\n",
       "      <td>433866.55</td>\n",
       "      <td>4588278.91</td>\n",
       "      <td>2.207212</td>\n",
       "      <td>41.441509</td>\n",
       "    </tr>\n",
       "    <tr>\n",
       "      <th>11005</th>\n",
       "      <td>2017S002192</td>\n",
       "      <td>9</td>\n",
       "      <td>Sant Andreu</td>\n",
       "      <td>59</td>\n",
       "      <td>el Bon Pastor</td>\n",
       "      <td>92938</td>\n",
       "      <td>POTOSÍ                                        ...</td>\n",
       "      <td>0000 0000</td>\n",
       "      <td>Dissabte</td>\n",
       "      <td>Ds</td>\n",
       "      <td>...</td>\n",
       "      <td>3</td>\n",
       "      <td>Març</td>\n",
       "      <td>18</td>\n",
       "      <td>18</td>\n",
       "      <td>Tarda</td>\n",
       "      <td>Col.lisió fronto-lateral</td>\n",
       "      <td>433404.54</td>\n",
       "      <td>4587801.39</td>\n",
       "      <td>2.201735</td>\n",
       "      <td>41.437175</td>\n",
       "    </tr>\n",
       "    <tr>\n",
       "      <th>11006</th>\n",
       "      <td>2017S001766</td>\n",
       "      <td>9</td>\n",
       "      <td>Sant Andreu</td>\n",
       "      <td>59</td>\n",
       "      <td>el Bon Pastor</td>\n",
       "      <td>81002</td>\n",
       "      <td>ARBECA                                        ...</td>\n",
       "      <td>0039 0039</td>\n",
       "      <td>Divendres</td>\n",
       "      <td>Dv</td>\n",
       "      <td>...</td>\n",
       "      <td>3</td>\n",
       "      <td>Març</td>\n",
       "      <td>3</td>\n",
       "      <td>20</td>\n",
       "      <td>Tarda</td>\n",
       "      <td>Caiguda (dues rodes)</td>\n",
       "      <td>433745.24</td>\n",
       "      <td>4587781.61</td>\n",
       "      <td>2.205818</td>\n",
       "      <td>41.437023</td>\n",
       "    </tr>\n",
       "    <tr>\n",
       "      <th>11007</th>\n",
       "      <td>2017S009106</td>\n",
       "      <td>9</td>\n",
       "      <td>Sant Andreu</td>\n",
       "      <td>59</td>\n",
       "      <td>el Bon Pastor</td>\n",
       "      <td>295709</td>\n",
       "      <td>Sant Adrià                                    ...</td>\n",
       "      <td>0135 0135</td>\n",
       "      <td>Dissabte</td>\n",
       "      <td>Ds</td>\n",
       "      <td>...</td>\n",
       "      <td>11</td>\n",
       "      <td>Novembre</td>\n",
       "      <td>4</td>\n",
       "      <td>7</td>\n",
       "      <td>Matí</td>\n",
       "      <td>Atropellament</td>\n",
       "      <td>433747.84</td>\n",
       "      <td>4587710.83</td>\n",
       "      <td>2.205850</td>\n",
       "      <td>41.436384</td>\n",
       "    </tr>\n",
       "    <tr>\n",
       "      <th>11008</th>\n",
       "      <td>2017S006503</td>\n",
       "      <td>9</td>\n",
       "      <td>Sant Andreu</td>\n",
       "      <td>59</td>\n",
       "      <td>el Bon Pastor</td>\n",
       "      <td>81002</td>\n",
       "      <td>Arbeca / Claramunt                            ...</td>\n",
       "      <td>0075 0075</td>\n",
       "      <td>Dimarts</td>\n",
       "      <td>Dm</td>\n",
       "      <td>...</td>\n",
       "      <td>7</td>\n",
       "      <td>Juliol</td>\n",
       "      <td>25</td>\n",
       "      <td>20</td>\n",
       "      <td>Tarda</td>\n",
       "      <td>Col.lisió fronto-lateral</td>\n",
       "      <td>433957.73</td>\n",
       "      <td>4587814.72</td>\n",
       "      <td>2.208352</td>\n",
       "      <td>41.437338</td>\n",
       "    </tr>\n",
       "  </tbody>\n",
       "</table>\n",
       "<p>11009 rows × 22 columns</p>\n",
       "</div>"
      ],
      "text/plain": [
       "      Numero_expedient  Codi_districte Nom_districte  Codi_barri  \\\n",
       "0      2017S009418                  -1    Desconegut          -1   \n",
       "1      2017S008852                  -1    Desconegut          -1   \n",
       "2      2017S001023                  10    Sant Martí          64   \n",
       "3      2017S009198                  10    Sant Martí          64   \n",
       "4      2017S006546                  10    Sant Martí          64   \n",
       "...                ...             ...           ...         ...   \n",
       "11004  2017S003667                   9   Sant Andreu          59   \n",
       "11005  2017S002192                   9   Sant Andreu          59   \n",
       "11006  2017S001766                   9   Sant Andreu          59   \n",
       "11007  2017S009106                   9   Sant Andreu          59   \n",
       "11008  2017S006503                   9   Sant Andreu          59   \n",
       "\n",
       "                        Nom_barri  Codi_carrer  \\\n",
       "0                      Desconegut           -1   \n",
       "1                      Desconegut           -1   \n",
       "2      el Camp de l'Arpa del Clot       209900   \n",
       "3      el Camp de l'Arpa del Clot       346402   \n",
       "4      el Camp de l'Arpa del Clot       297001   \n",
       "...                           ...          ...   \n",
       "11004               el Bon Pastor       701266   \n",
       "11005               el Bon Pastor        92938   \n",
       "11006               el Bon Pastor        81002   \n",
       "11007               el Bon Pastor       295709   \n",
       "11008               el Bon Pastor        81002   \n",
       "\n",
       "                                              Nom_carrer Num_postal_caption  \\\n",
       "0      Francesc Ferrer i Guàrdia / Sant Jordi        ...         Desconegut   \n",
       "1      Valldaura                                     ...         284-286      \n",
       "2      NAVAS DE TOLOSA / Av Meridiana                ...          0203 0205   \n",
       "3      Trinxant / Ruiz de Padrón                     ...          0090 0090   \n",
       "4      Sant Antoni Maria Claret                      ...          0330 0332   \n",
       "...                                                  ...                ...   \n",
       "11004  Litoral (Llobregat)                           ...             140000   \n",
       "11005  POTOSÍ                                        ...          0000 0000   \n",
       "11006  ARBECA                                        ...          0039 0039   \n",
       "11007  Sant Adrià                                    ...          0135 0135   \n",
       "11008  Arbeca / Claramunt                            ...          0075 0075   \n",
       "\n",
       "      Descripcio_dia_setmana Dia_setmana  ... Mes_any   Nom_mes  Dia_mes  \\\n",
       "0                    Dilluns          Dl  ...      11  Novembre       13   \n",
       "1                     Dijous          Dj  ...      10   Octubre       26   \n",
       "2                    Dimarts          Dm  ...       2    Febrer        7   \n",
       "3                    Dimarts          Dm  ...      11  Novembre        7   \n",
       "4                     Dijous          Dj  ...       7    Juliol       27   \n",
       "...                      ...         ...  ...     ...       ...      ...   \n",
       "11004                Dimarts          Dm  ...       4     Abril       25   \n",
       "11005               Dissabte          Ds  ...       3      Març       18   \n",
       "11006              Divendres          Dv  ...       3      Març        3   \n",
       "11007               Dissabte          Ds  ...      11  Novembre        4   \n",
       "11008                Dimarts          Dm  ...       7    Juliol       25   \n",
       "\n",
       "      Hora_dia  Descripcio_torn  Descripcio_tipus_accident Coordenada_UTM_X  \\\n",
       "0           16            Tarda                      Abast        428572.07   \n",
       "1            7             Matí   Col.lisió fronto-lateral        431806.60   \n",
       "2           15            Tarda          Col.lisió lateral        432116.48   \n",
       "3           14            Tarda   Col.lisió fronto-lateral        431940.75   \n",
       "4           14            Tarda                      Abast        431537.32   \n",
       "...        ...              ...                        ...              ...   \n",
       "11004        8             Matí          Col.lisió lateral        433866.55   \n",
       "11005       18            Tarda   Col.lisió fronto-lateral        433404.54   \n",
       "11006       20            Tarda       Caiguda (dues rodes)        433745.24   \n",
       "11007        7             Matí              Atropellament        433747.84   \n",
       "11008       20            Tarda   Col.lisió fronto-lateral        433957.73   \n",
       "\n",
       "      Coordenada_UTM_Y  Longitud    Latitud  \n",
       "0           4580031.06  2.144821  41.366779  \n",
       "1           4588044.41  2.182588  41.439233  \n",
       "2           4585382.72  2.186591  41.415280  \n",
       "3           4585401.48  2.184483  41.415436  \n",
       "4           4585363.11  2.179666  41.415060  \n",
       "...                ...       ...        ...  \n",
       "11004       4588278.91  2.207212  41.441509  \n",
       "11005       4587801.39  2.201735  41.437175  \n",
       "11006       4587781.61  2.205818  41.437023  \n",
       "11007       4587710.83  2.205850  41.436384  \n",
       "11008       4587814.72  2.208352  41.437338  \n",
       "\n",
       "[11009 rows x 22 columns]"
      ]
     },
     "execution_count": 3,
     "metadata": {},
     "output_type": "execute_result"
    }
   ],
   "source": [
    "csv_file = '2017_accidents_tipus_gu_bcn_.csv'\n",
    "df = pd.read_csv(csv_file)\n",
    "df"
   ]
  },
  {
   "cell_type": "markdown",
   "metadata": {
    "collapsed": false,
    "pycharm": {
     "name": "#%% md\n"
    }
   },
   "source": [
    "## Número de accidentes por hora\n",
    "Representación en un historiograma de los accidentes por hora"
   ]
  },
  {
   "cell_type": "code",
   "execution_count": 4,
   "id": "6ec98ead",
   "metadata": {
    "pycharm": {
     "name": "#%%\n"
    }
   },
   "outputs": [
    {
     "data": {
      "image/png": "[encoded data removed]",
      "text/plain": [
       "<Figure size 432x288 with 1 Axes>"
      ]
     },
     "metadata": {
      "needs_background": "light"
     },
     "output_type": "display_data"
    }
   ],
   "source": [
    "fig1=df['Hora_dia'].plot(kind='hist', bins=100, color=['gray'])"
   ]
  },
  {
   "cell_type": "markdown",
   "metadata": {
    "collapsed": false,
    "pycharm": {
     "name": "#%% md\n"
    }
   },
   "source": [
    "Validación de la información del gráfico"
   ]
  },
  {
   "cell_type": "code",
   "execution_count": 5,
   "id": "28e88093",
   "metadata": {
    "pycharm": {
     "name": "#%%\n"
    }
   },
   "outputs": [
    {
     "data": {
      "text/plain": [
       "14    773\n",
       "13    764\n",
       "18    722\n",
       "15    710\n",
       "9     688\n",
       "19    683\n",
       "17    681\n",
       "16    673\n",
       "12    672\n",
       "8     651\n",
       "20    613\n",
       "11    544\n",
       "10    535\n",
       "21    522\n",
       "22    365\n",
       "7     335\n",
       "23    222\n",
       "0     195\n",
       "6     183\n",
       "1     143\n",
       "5      97\n",
       "4      91\n",
       "2      86\n",
       "3      61\n",
       "Name: Hora_dia, dtype: int64"
      ]
     },
     "execution_count": 5,
     "metadata": {},
     "output_type": "execute_result"
    }
   ],
   "source": [
    "contador = df['Hora_dia'].value_counts()\n",
    "contador.sort_values(ascending=False)"
   ]
  },
  {
   "cell_type": "markdown",
   "metadata": {
    "collapsed": false,
    "pycharm": {
     "name": "#%% md\n"
    }
   },
   "source": [
    "## Meses en los que suceden más accidentes"
   ]
  },
  {
   "cell_type": "markdown",
   "metadata": {
    "collapsed": false,
    "pycharm": {
     "name": "#%% md\n"
    }
   },
   "source": [
    "Representación en un historiograma de accidentes por mes"
   ]
  },
  {
   "cell_type": "code",
   "execution_count": 6,
   "id": "a3169632",
   "metadata": {
    "pycharm": {
     "name": "#%%\n"
    }
   },
   "outputs": [
    {
     "data": {
      "image/png": "[encoded data removed]",
      "text/plain": [
       "<Figure size 432x288 with 1 Axes>"
      ]
     },
     "metadata": {
      "needs_background": "light"
     },
     "output_type": "display_data"
    }
   ],
   "source": [
    "fig2=df['Mes_any'].plot(kind='hist', bins=100, color=['gray'])"
   ]
  },
  {
   "cell_type": "markdown",
   "metadata": {
    "collapsed": false,
    "pycharm": {
     "name": "#%% md\n"
    }
   },
   "source": [
    "Validación de la información del gráfico"
   ]
  },
  {
   "cell_type": "code",
   "execution_count": 7,
   "id": "fbd83f1d",
   "metadata": {
    "pycharm": {
     "name": "#%%\n"
    }
   },
   "outputs": [
    {
     "data": {
      "text/plain": [
       "11    1054\n",
       "5     1031\n",
       "10     986\n",
       "7      985\n",
       "3      979\n",
       "6      969\n",
       "4      926\n",
       "1      893\n",
       "2      866\n",
       "9      830\n",
       "12     798\n",
       "8      692\n",
       "Name: Mes_any, dtype: int64"
      ]
     },
     "execution_count": 7,
     "metadata": {},
     "output_type": "execute_result"
    }
   ],
   "source": [
    "contador2 = df['Mes_any'].value_counts()\n",
    "contador2.sort_values(ascending=False)"
   ]
  },
  {
   "cell_type": "markdown",
   "metadata": {
    "collapsed": false,
    "pycharm": {
     "name": "#%% md\n"
    }
   },
   "source": [
    "Almacenar en la variable df2 el número de expedientes agrupados por meses del año"
   ]
  },
  {
   "cell_type": "code",
   "execution_count": 8,
   "id": "e28aef86",
   "metadata": {
    "pycharm": {
     "name": "#%%\n"
    }
   },
   "outputs": [],
   "source": [
    "df2=df.groupby('Mes_any')['Numero_expedient'].count()"
   ]
  },
  {
   "cell_type": "markdown",
   "metadata": {
    "collapsed": false,
    "pycharm": {
     "name": "#%% md\n"
    }
   },
   "source": [
    "Gráfico de línea de cantidad expedientes por mes"
   ]
  },
  {
   "cell_type": "code",
   "execution_count": 9,
   "id": "a03425ab",
   "metadata": {
    "pycharm": {
     "name": "#%%\n"
    }
   },
   "outputs": [
    {
     "data": {
      "image/png": "[encoded data removed]",
      "text/plain": [
       "<Figure size 432x288 with 1 Axes>"
      ]
     },
     "metadata": {
      "needs_background": "light"
     },
     "output_type": "display_data"
    }
   ],
   "source": [
    "df2.plot.line('Mes_any','Numero_expedient' )\n",
    "plot.ylabel('Total d´expedients')\n",
    "plot.xlabel(\"Mes de l'any\")\n",
    "plot.show()"
   ]
  },
  {
   "cell_type": "markdown",
   "metadata": {
    "collapsed": false,
    "pycharm": {
     "name": "#%% md\n"
    }
   },
   "source": [
    "Representación en un historiograma de accidentes por mes"
   ]
  },
  {
   "cell_type": "code",
   "execution_count": 10,
   "id": "8c67053e",
   "metadata": {
    "pycharm": {
     "name": "#%%\n"
    }
   },
   "outputs": [
    {
     "data": {
      "text/plain": [
       "<AxesSubplot:ylabel='Frequency'>"
      ]
     },
     "execution_count": 10,
     "metadata": {},
     "output_type": "execute_result"
    },
    {
     "data": {
      "image/png": "[encoded data removed]",
      "text/plain": [
       "<Figure size 432x288 with 1 Axes>"
      ]
     },
     "metadata": {
      "needs_background": "light"
     },
     "output_type": "display_data"
    }
   ],
   "source": [
    "df['Mes_any'].plot(kind='hist', bins=100, color=['gray'])"
   ]
  },
  {
   "cell_type": "markdown",
   "metadata": {
    "collapsed": false,
    "pycharm": {
     "name": "#%% md\n"
    }
   },
   "source": [
    "Validación de top 3 de meses con más accidentes"
   ]
  },
  {
   "cell_type": "code",
   "execution_count": 11,
   "id": "82d084f4",
   "metadata": {
    "pycharm": {
     "name": "#%%\n"
    }
   },
   "outputs": [
    {
     "data": {
      "text/plain": [
       "Mes_any\n",
       "11    1054\n",
       "5     1031\n",
       "10     986\n",
       "Name: Numero_expedient, dtype: int64"
      ]
     },
     "execution_count": 11,
     "metadata": {},
     "output_type": "execute_result"
    }
   ],
   "source": [
    "df2.sort_values(ascending = False)[:3]"
   ]
  },
  {
   "cell_type": "markdown",
   "metadata": {
    "collapsed": false,
    "pycharm": {
     "name": "#%% md\n"
    }
   },
   "source": [
    "Gráfico de barras con el top 3 de meses con más accidentes"
   ]
  },
  {
   "cell_type": "code",
   "execution_count": 12,
   "id": "d9019870",
   "metadata": {
    "pycharm": {
     "name": "#%%\n"
    }
   },
   "outputs": [
    {
     "data": {
      "text/plain": [
       "<AxesSubplot:xlabel='Mes_any'>"
      ]
     },
     "execution_count": 12,
     "metadata": {},
     "output_type": "execute_result"
    },
    {
     "data": {
      "image/png": "[encoded data removed]",
      "text/plain": [
       "<Figure size 432x288 with 1 Axes>"
      ]
     },
     "metadata": {
      "needs_background": "light"
     },
     "output_type": "display_data"
    }
   ],
   "source": [
    "df2.sort_values()[-3:].plot(kind='bar')"
   ]
  },
  {
   "cell_type": "code",
   "execution_count": 13,
   "id": "5c17ff89",
   "metadata": {},
   "outputs": [
    {
     "data": {
      "text/plain": [
       "Index(['Numero_expedient', 'Codi_districte', 'Nom_districte', 'Codi_barri',\n",
       "       'Nom_barri', 'Codi_carrer', 'Nom_carrer', 'Num_postal_caption',\n",
       "       'Descripcio_dia_setmana', 'Dia_setmana', 'Descripcio_tipus_dia', 'Any',\n",
       "       'Mes_any', 'Nom_mes', 'Dia_mes', 'Hora_dia', 'Descripcio_torn',\n",
       "       'Descripcio_tipus_accident', 'Coordenada_UTM_X', 'Coordenada_UTM_Y',\n",
       "       'Longitud', 'Latitud'],\n",
       "      dtype='object')"
      ]
     },
     "execution_count": 13,
     "metadata": {},
     "output_type": "execute_result"
    }
   ],
   "source": [
    "\n",
    "df.columns"
   ]
  },
  {
   "cell_type": "code",
   "execution_count": 19,
   "id": "caabfc56",
   "metadata": {},
   "outputs": [
    {
     "data": {
      "text/plain": [
       "Text(0.5, 1.0, 'Número d´expedients per mes de l´any i torn')"
      ]
     },
     "execution_count": 19,
     "metadata": {},
     "output_type": "execute_result"
    },
    {
     "data": {
      "image/png": "[encoded data removed]",
      "text/plain": [
       "<Figure size 432x288 with 1 Axes>"
      ]
     },
     "metadata": {
      "needs_background": "light"
     },
     "output_type": "display_data"
    }
   ],
   "source": [
    "\n",
    "# ax = plot.subplots(figsize=(15,9))\n",
    "df.groupby(['Mes_any','Descripcio_torn']).count()['Numero_expedient'].unstack().plot(kind='bar', stacked=True)\n",
    "\n",
    "\n",
    "plot.title('Número d´expedients per mes de l´any i torn')\n"
   ]
  }
 ],
 "metadata": {
  "kernelspec": {
   "display_name": "Python 3 (ipykernel)",
   "language": "python",
   "name": "python3"
  },
  "language_info": {
   "codemirror_mode": {
    "name": "ipython",
    "version": 3
   },
   "file_extension": ".py",
   "mimetype": "text/x-python",
   "name": "python",
   "nbconvert_exporter": "python",
   "pygments_lexer": "ipython3",
   "version": "3.10.2"
  }
 },
 "nbformat": 4,
 "nbformat_minor": 5
}
