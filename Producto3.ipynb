{
 "cells": [
  {
   "cell_type": "markdown",
   "source": [
    "## Carga de las bibliotecas a usar"
   ],
   "metadata": {
    "collapsed": false,
    "pycharm": {
     "name": "#%% md\n"
    }
   }
  },
  {
   "cell_type": "code",
   "execution_count": 433,
   "id": "cbd982f2",
   "metadata": {
    "pycharm": {
     "name": "#%%\n"
    }
   },
   "outputs": [],
   "source": [
    "import pandas as pd\n",
    "import matplotlib.pyplot as plot"
   ]
  },
  {
   "cell_type": "markdown",
   "source": [
    "## Carga de los datos a usar\n",
    "Añadimos al script el archivo con los datos que vamos a trabajar y mostramos su contenido"
   ],
   "metadata": {
    "collapsed": false,
    "pycharm": {
     "name": "#%% md\n"
    }
   }
  },
  {
   "cell_type": "code",
   "execution_count": 434,
   "id": "55bfe6d7",
   "metadata": {
    "pycharm": {
     "name": "#%%\n"
    }
   },
   "outputs": [
    {
     "data": {
      "text/plain": "      Numero_expedient  Codi_districte Nom_districte  Codi_barri  \\\n0      2017S009418                  -1    Desconegut          -1   \n1      2017S008852                  -1    Desconegut          -1   \n2      2017S001023                  10    Sant Martí          64   \n3      2017S009198                  10    Sant Martí          64   \n4      2017S006546                  10    Sant Martí          64   \n...                ...             ...           ...         ...   \n11004  2017S003667                   9   Sant Andreu          59   \n11005  2017S002192                   9   Sant Andreu          59   \n11006  2017S001766                   9   Sant Andreu          59   \n11007  2017S009106                   9   Sant Andreu          59   \n11008  2017S006503                   9   Sant Andreu          59   \n\n                        Nom_barri  Codi_carrer  \\\n0                      Desconegut           -1   \n1                      Desconegut           -1   \n2      el Camp de l'Arpa del Clot       209900   \n3      el Camp de l'Arpa del Clot       346402   \n4      el Camp de l'Arpa del Clot       297001   \n...                           ...          ...   \n11004               el Bon Pastor       701266   \n11005               el Bon Pastor        92938   \n11006               el Bon Pastor        81002   \n11007               el Bon Pastor       295709   \n11008               el Bon Pastor        81002   \n\n                                              Nom_carrer Num_postal_caption  \\\n0      Francesc Ferrer i Guàrdia / Sant Jordi        ...         Desconegut   \n1      Valldaura                                     ...         284-286      \n2      NAVAS DE TOLOSA / Av Meridiana                ...          0203 0205   \n3      Trinxant / Ruiz de Padrón                     ...          0090 0090   \n4      Sant Antoni Maria Claret                      ...          0330 0332   \n...                                                  ...                ...   \n11004  Litoral (Llobregat)                           ...             140000   \n11005  POTOSÍ                                        ...          0000 0000   \n11006  ARBECA                                        ...          0039 0039   \n11007  Sant Adrià                                    ...          0135 0135   \n11008  Arbeca / Claramunt                            ...          0075 0075   \n\n      Descripcio_dia_setmana Dia_setmana  ... Mes_any   Nom_mes  Dia_mes  \\\n0                    Dilluns          Dl  ...      11  Novembre       13   \n1                     Dijous          Dj  ...      10   Octubre       26   \n2                    Dimarts          Dm  ...       2    Febrer        7   \n3                    Dimarts          Dm  ...      11  Novembre        7   \n4                     Dijous          Dj  ...       7    Juliol       27   \n...                      ...         ...  ...     ...       ...      ...   \n11004                Dimarts          Dm  ...       4     Abril       25   \n11005               Dissabte          Ds  ...       3      Març       18   \n11006              Divendres          Dv  ...       3      Març        3   \n11007               Dissabte          Ds  ...      11  Novembre        4   \n11008                Dimarts          Dm  ...       7    Juliol       25   \n\n      Hora_dia  Descripcio_torn  Descripcio_tipus_accident Coordenada_UTM_X  \\\n0           16            Tarda                      Abast        428572.07   \n1            7             Matí   Col.lisió fronto-lateral        431806.60   \n2           15            Tarda          Col.lisió lateral        432116.48   \n3           14            Tarda   Col.lisió fronto-lateral        431940.75   \n4           14            Tarda                      Abast        431537.32   \n...        ...              ...                        ...              ...   \n11004        8             Matí          Col.lisió lateral        433866.55   \n11005       18            Tarda   Col.lisió fronto-lateral        433404.54   \n11006       20            Tarda       Caiguda (dues rodes)        433745.24   \n11007        7             Matí              Atropellament        433747.84   \n11008       20            Tarda   Col.lisió fronto-lateral        433957.73   \n\n      Coordenada_UTM_Y  Longitud    Latitud  \n0           4580031.06  2.144821  41.366779  \n1           4588044.41  2.182588  41.439233  \n2           4585382.72  2.186591  41.415280  \n3           4585401.48  2.184483  41.415436  \n4           4585363.11  2.179666  41.415060  \n...                ...       ...        ...  \n11004       4588278.91  2.207212  41.441509  \n11005       4587801.39  2.201735  41.437175  \n11006       4587781.61  2.205818  41.437023  \n11007       4587710.83  2.205850  41.436384  \n11008       4587814.72  2.208352  41.437338  \n\n[11009 rows x 22 columns]",
      "text/html": "<div>\n<style scoped>\n    .dataframe tbody tr th:only-of-type {\n        vertical-align: middle;\n    }\n\n    .dataframe tbody tr th {\n        vertical-align: top;\n    }\n\n    .dataframe thead th {\n        text-align: right;\n    }\n</style>\n<table border=\"1\" class=\"dataframe\">\n  <thead>\n    <tr style=\"text-align: right;\">\n      <th></th>\n      <th>Numero_expedient</th>\n      <th>Codi_districte</th>\n      <th>Nom_districte</th>\n      <th>Codi_barri</th>\n      <th>Nom_barri</th>\n      <th>Codi_carrer</th>\n      <th>Nom_carrer</th>\n      <th>Num_postal_caption</th>\n      <th>Descripcio_dia_setmana</th>\n      <th>Dia_setmana</th>\n      <th>...</th>\n      <th>Mes_any</th>\n      <th>Nom_mes</th>\n      <th>Dia_mes</th>\n      <th>Hora_dia</th>\n      <th>Descripcio_torn</th>\n      <th>Descripcio_tipus_accident</th>\n      <th>Coordenada_UTM_X</th>\n      <th>Coordenada_UTM_Y</th>\n      <th>Longitud</th>\n      <th>Latitud</th>\n    </tr>\n  </thead>\n  <tbody>\n    <tr>\n      <th>0</th>\n      <td>2017S009418</td>\n      <td>-1</td>\n      <td>Desconegut</td>\n      <td>-1</td>\n      <td>Desconegut</td>\n      <td>-1</td>\n      <td>Francesc Ferrer i Guàrdia / Sant Jordi        ...</td>\n      <td>Desconegut</td>\n      <td>Dilluns</td>\n      <td>Dl</td>\n      <td>...</td>\n      <td>11</td>\n      <td>Novembre</td>\n      <td>13</td>\n      <td>16</td>\n      <td>Tarda</td>\n      <td>Abast</td>\n      <td>428572.07</td>\n      <td>4580031.06</td>\n      <td>2.144821</td>\n      <td>41.366779</td>\n    </tr>\n    <tr>\n      <th>1</th>\n      <td>2017S008852</td>\n      <td>-1</td>\n      <td>Desconegut</td>\n      <td>-1</td>\n      <td>Desconegut</td>\n      <td>-1</td>\n      <td>Valldaura                                     ...</td>\n      <td>284-286</td>\n      <td>Dijous</td>\n      <td>Dj</td>\n      <td>...</td>\n      <td>10</td>\n      <td>Octubre</td>\n      <td>26</td>\n      <td>7</td>\n      <td>Matí</td>\n      <td>Col.lisió fronto-lateral</td>\n      <td>431806.60</td>\n      <td>4588044.41</td>\n      <td>2.182588</td>\n      <td>41.439233</td>\n    </tr>\n    <tr>\n      <th>2</th>\n      <td>2017S001023</td>\n      <td>10</td>\n      <td>Sant Martí</td>\n      <td>64</td>\n      <td>el Camp de l'Arpa del Clot</td>\n      <td>209900</td>\n      <td>NAVAS DE TOLOSA / Av Meridiana                ...</td>\n      <td>0203 0205</td>\n      <td>Dimarts</td>\n      <td>Dm</td>\n      <td>...</td>\n      <td>2</td>\n      <td>Febrer</td>\n      <td>7</td>\n      <td>15</td>\n      <td>Tarda</td>\n      <td>Col.lisió lateral</td>\n      <td>432116.48</td>\n      <td>4585382.72</td>\n      <td>2.186591</td>\n      <td>41.415280</td>\n    </tr>\n    <tr>\n      <th>3</th>\n      <td>2017S009198</td>\n      <td>10</td>\n      <td>Sant Martí</td>\n      <td>64</td>\n      <td>el Camp de l'Arpa del Clot</td>\n      <td>346402</td>\n      <td>Trinxant / Ruiz de Padrón                     ...</td>\n      <td>0090 0090</td>\n      <td>Dimarts</td>\n      <td>Dm</td>\n      <td>...</td>\n      <td>11</td>\n      <td>Novembre</td>\n      <td>7</td>\n      <td>14</td>\n      <td>Tarda</td>\n      <td>Col.lisió fronto-lateral</td>\n      <td>431940.75</td>\n      <td>4585401.48</td>\n      <td>2.184483</td>\n      <td>41.415436</td>\n    </tr>\n    <tr>\n      <th>4</th>\n      <td>2017S006546</td>\n      <td>10</td>\n      <td>Sant Martí</td>\n      <td>64</td>\n      <td>el Camp de l'Arpa del Clot</td>\n      <td>297001</td>\n      <td>Sant Antoni Maria Claret                      ...</td>\n      <td>0330 0332</td>\n      <td>Dijous</td>\n      <td>Dj</td>\n      <td>...</td>\n      <td>7</td>\n      <td>Juliol</td>\n      <td>27</td>\n      <td>14</td>\n      <td>Tarda</td>\n      <td>Abast</td>\n      <td>431537.32</td>\n      <td>4585363.11</td>\n      <td>2.179666</td>\n      <td>41.415060</td>\n    </tr>\n    <tr>\n      <th>...</th>\n      <td>...</td>\n      <td>...</td>\n      <td>...</td>\n      <td>...</td>\n      <td>...</td>\n      <td>...</td>\n      <td>...</td>\n      <td>...</td>\n      <td>...</td>\n      <td>...</td>\n      <td>...</td>\n      <td>...</td>\n      <td>...</td>\n      <td>...</td>\n      <td>...</td>\n      <td>...</td>\n      <td>...</td>\n      <td>...</td>\n      <td>...</td>\n      <td>...</td>\n      <td>...</td>\n    </tr>\n    <tr>\n      <th>11004</th>\n      <td>2017S003667</td>\n      <td>9</td>\n      <td>Sant Andreu</td>\n      <td>59</td>\n      <td>el Bon Pastor</td>\n      <td>701266</td>\n      <td>Litoral (Llobregat)                           ...</td>\n      <td>140000</td>\n      <td>Dimarts</td>\n      <td>Dm</td>\n      <td>...</td>\n      <td>4</td>\n      <td>Abril</td>\n      <td>25</td>\n      <td>8</td>\n      <td>Matí</td>\n      <td>Col.lisió lateral</td>\n      <td>433866.55</td>\n      <td>4588278.91</td>\n      <td>2.207212</td>\n      <td>41.441509</td>\n    </tr>\n    <tr>\n      <th>11005</th>\n      <td>2017S002192</td>\n      <td>9</td>\n      <td>Sant Andreu</td>\n      <td>59</td>\n      <td>el Bon Pastor</td>\n      <td>92938</td>\n      <td>POTOSÍ                                        ...</td>\n      <td>0000 0000</td>\n      <td>Dissabte</td>\n      <td>Ds</td>\n      <td>...</td>\n      <td>3</td>\n      <td>Març</td>\n      <td>18</td>\n      <td>18</td>\n      <td>Tarda</td>\n      <td>Col.lisió fronto-lateral</td>\n      <td>433404.54</td>\n      <td>4587801.39</td>\n      <td>2.201735</td>\n      <td>41.437175</td>\n    </tr>\n    <tr>\n      <th>11006</th>\n      <td>2017S001766</td>\n      <td>9</td>\n      <td>Sant Andreu</td>\n      <td>59</td>\n      <td>el Bon Pastor</td>\n      <td>81002</td>\n      <td>ARBECA                                        ...</td>\n      <td>0039 0039</td>\n      <td>Divendres</td>\n      <td>Dv</td>\n      <td>...</td>\n      <td>3</td>\n      <td>Març</td>\n      <td>3</td>\n      <td>20</td>\n      <td>Tarda</td>\n      <td>Caiguda (dues rodes)</td>\n      <td>433745.24</td>\n      <td>4587781.61</td>\n      <td>2.205818</td>\n      <td>41.437023</td>\n    </tr>\n    <tr>\n      <th>11007</th>\n      <td>2017S009106</td>\n      <td>9</td>\n      <td>Sant Andreu</td>\n      <td>59</td>\n      <td>el Bon Pastor</td>\n      <td>295709</td>\n      <td>Sant Adrià                                    ...</td>\n      <td>0135 0135</td>\n      <td>Dissabte</td>\n      <td>Ds</td>\n      <td>...</td>\n      <td>11</td>\n      <td>Novembre</td>\n      <td>4</td>\n      <td>7</td>\n      <td>Matí</td>\n      <td>Atropellament</td>\n      <td>433747.84</td>\n      <td>4587710.83</td>\n      <td>2.205850</td>\n      <td>41.436384</td>\n    </tr>\n    <tr>\n      <th>11008</th>\n      <td>2017S006503</td>\n      <td>9</td>\n      <td>Sant Andreu</td>\n      <td>59</td>\n      <td>el Bon Pastor</td>\n      <td>81002</td>\n      <td>Arbeca / Claramunt                            ...</td>\n      <td>0075 0075</td>\n      <td>Dimarts</td>\n      <td>Dm</td>\n      <td>...</td>\n      <td>7</td>\n      <td>Juliol</td>\n      <td>25</td>\n      <td>20</td>\n      <td>Tarda</td>\n      <td>Col.lisió fronto-lateral</td>\n      <td>433957.73</td>\n      <td>4587814.72</td>\n      <td>2.208352</td>\n      <td>41.437338</td>\n    </tr>\n  </tbody>\n</table>\n<p>11009 rows × 22 columns</p>\n</div>"
     },
     "execution_count": 434,
     "metadata": {},
     "output_type": "execute_result"
    }
   ],
   "source": [
    "csv_file = '2017_accidents_tipus_gu_bcn_.csv'\n",
    "df = pd.read_csv(csv_file)\n",
    "df"
   ]
  },
  {
   "cell_type": "markdown",
   "source": [
    "## Número de accidentes por hora\n",
    "Representación en un historiograma de los accidentes por hora"
   ],
   "metadata": {
    "collapsed": false,
    "pycharm": {
     "name": "#%% md\n"
    }
   }
  },
  {
   "cell_type": "code",
   "execution_count": 435,
   "id": "6ec98ead",
   "metadata": {
    "pycharm": {
     "name": "#%%\n"
    }
   },
   "outputs": [
    {
     "data": {
      "text/plain": "<Figure size 432x288 with 1 Axes>",
      "image/png": "[encoded data removed]"
     },
     "metadata": {
      "needs_background": "light"
     },
     "output_type": "display_data"
    }
   ],
   "source": [
    "fig1=df['Hora_dia'].plot(kind='hist', bins=100, color=['gray'])"
   ]
  },
  {
   "cell_type": "markdown",
   "source": [
    "Validación de la información del gráfico"
   ],
   "metadata": {
    "collapsed": false,
    "pycharm": {
     "name": "#%% md\n"
    }
   }
  },
  {
   "cell_type": "code",
   "execution_count": 436,
   "id": "28e88093",
   "metadata": {
    "pycharm": {
     "name": "#%%\n"
    }
   },
   "outputs": [
    {
     "data": {
      "text/plain": "14    773\n13    764\n18    722\n15    710\n9     688\n19    683\n17    681\n16    673\n12    672\n8     651\n20    613\n11    544\n10    535\n21    522\n22    365\n7     335\n23    222\n0     195\n6     183\n1     143\n5      97\n4      91\n2      86\n3      61\nName: Hora_dia, dtype: int64"
     },
     "execution_count": 436,
     "metadata": {},
     "output_type": "execute_result"
    }
   ],
   "source": [
    "contador = df['Hora_dia'].value_counts()\n",
    "contador.sort_values(ascending=False)"
   ]
  },
  {
   "cell_type": "markdown",
   "source": [
    "## Meses en los que suceden más accidentes"
   ],
   "metadata": {
    "collapsed": false,
    "pycharm": {
     "name": "#%% md\n"
    }
   }
  },
  {
   "cell_type": "markdown",
   "source": [
    "Representación en un historiograma de accidentes por mes"
   ],
   "metadata": {
    "collapsed": false,
    "pycharm": {
     "name": "#%% md\n"
    }
   }
  },
  {
   "cell_type": "code",
   "execution_count": 437,
   "id": "a3169632",
   "metadata": {
    "pycharm": {
     "name": "#%%\n"
    }
   },
   "outputs": [
    {
     "data": {
      "text/plain": "<Figure size 432x288 with 1 Axes>",
      "image/png": "[encoded data removed]"
     },
     "metadata": {
      "needs_background": "light"
     },
     "output_type": "display_data"
    }
   ],
   "source": [
    "fig2=df['Mes_any'].plot(kind='hist', bins=100, color=['gray'])"
   ]
  },
  {
   "cell_type": "markdown",
   "source": [
    "Validación de la información del gráfico"
   ],
   "metadata": {
    "collapsed": false,
    "pycharm": {
     "name": "#%% md\n"
    }
   }
  },
  {
   "cell_type": "code",
   "execution_count": 438,
   "id": "fbd83f1d",
   "metadata": {
    "pycharm": {
     "name": "#%%\n"
    }
   },
   "outputs": [
    {
     "data": {
      "text/plain": "11    1054\n5     1031\n10     986\n7      985\n3      979\n6      969\n4      926\n1      893\n2      866\n9      830\n12     798\n8      692\nName: Mes_any, dtype: int64"
     },
     "execution_count": 438,
     "metadata": {},
     "output_type": "execute_result"
    }
   ],
   "source": [
    "contador2 = df['Mes_any'].value_counts()\n",
    "contador2.sort_values(ascending=False)"
   ]
  },
  {
   "cell_type": "markdown",
   "source": [
    "Almacenar en la variable df2 el número de expedientes agrupados por meses del año"
   ],
   "metadata": {
    "collapsed": false,
    "pycharm": {
     "name": "#%% md\n"
    }
   }
  },
  {
   "cell_type": "code",
   "execution_count": 439,
   "id": "e28aef86",
   "metadata": {
    "pycharm": {
     "name": "#%%\n"
    }
   },
   "outputs": [],
   "source": [
    "df2=df.groupby('Mes_any')['Numero_expedient'].count()"
   ]
  },
  {
   "cell_type": "markdown",
   "source": [
    "Gráfico de línea de cantidad expedientes por mes"
   ],
   "metadata": {
    "collapsed": false,
    "pycharm": {
     "name": "#%% md\n"
    }
   }
  },
  {
   "cell_type": "code",
   "execution_count": 440,
   "id": "a03425ab",
   "metadata": {
    "pycharm": {
     "name": "#%%\n"
    }
   },
   "outputs": [
    {
     "data": {
      "text/plain": "<Figure size 432x288 with 1 Axes>",
      "image/png": "[encoded data removed]"
     },
     "metadata": {
      "needs_background": "light"
     },
     "output_type": "display_data"
    }
   ],
   "source": [
    "df2.plot.line('Mes_any','Numero_expedient' )\n",
    "plot.ylabel('Total d´expedients')\n",
    "plot.xlabel(\"Mes de l'any\")\n",
    "plot.show()"
   ]
  },
  {
   "cell_type": "markdown",
   "source": [
    "Representación en un historiograma de accidentes por mes"
   ],
   "metadata": {
    "collapsed": false,
    "pycharm": {
     "name": "#%% md\n"
    }
   }
  },
  {
   "cell_type": "code",
   "execution_count": 441,
   "id": "8c67053e",
   "metadata": {
    "pycharm": {
     "name": "#%%\n"
    }
   },
   "outputs": [
    {
     "data": {
      "text/plain": "<AxesSubplot:ylabel='Frequency'>"
     },
     "execution_count": 441,
     "metadata": {},
     "output_type": "execute_result"
    },
    {
     "data": {
      "text/plain": "<Figure size 432x288 with 1 Axes>",
      "image/png": "[encoded data removed]"
     },
     "metadata": {
      "needs_background": "light"
     },
     "output_type": "display_data"
    }
   ],
   "source": [
    "df['Mes_any'].plot(kind='hist', bins=100, color=['gray'])"
   ]
  },
  {
   "cell_type": "markdown",
   "source": [
    "Validación de top 3 de meses con más accidentes"
   ],
   "metadata": {
    "collapsed": false,
    "pycharm": {
     "name": "#%% md\n"
    }
   }
  },
  {
   "cell_type": "code",
   "execution_count": 442,
   "id": "82d084f4",
   "metadata": {
    "pycharm": {
     "name": "#%%\n"
    }
   },
   "outputs": [
    {
     "data": {
      "text/plain": "Mes_any\n11    1054\n5     1031\n10     986\nName: Numero_expedient, dtype: int64"
     },
     "execution_count": 442,
     "metadata": {},
     "output_type": "execute_result"
    }
   ],
   "source": [
    "df2.sort_values(ascending = False)[:3]"
   ]
  },
  {
   "cell_type": "markdown",
   "source": [
    "Gráfico de barras con el top 3 de meses con más accidentes"
   ],
   "metadata": {
    "collapsed": false,
    "pycharm": {
     "name": "#%% md\n"
    }
   }
  },
  {
   "cell_type": "code",
   "execution_count": 443,
   "id": "d9019870",
   "metadata": {
    "pycharm": {
     "name": "#%%\n"
    }
   },
   "outputs": [
    {
     "data": {
      "text/plain": "<AxesSubplot:xlabel='Mes_any'>"
     },
     "execution_count": 443,
     "metadata": {},
     "output_type": "execute_result"
    },
    {
     "data": {
      "text/plain": "<Figure size 432x288 with 1 Axes>",
      "image/png": "[encoded data removed]"
     },
     "metadata": {
      "needs_background": "light"
     },
     "output_type": "display_data"
    }
   ],
   "source": [
    "df2.sort_values()[-3:].plot(kind='bar')"
   ]
  },
  {
   "cell_type": "code",
   "execution_count": 444,
   "id": "ec183c06",
   "metadata": {
    "pycharm": {
     "name": "#%%\n"
    }
   },
   "outputs": [],
   "source": [
    "#falta el opcional"
   ]
  }
 ],
 "metadata": {
  "kernelspec": {
   "display_name": "Python 3 (ipykernel)",
   "language": "python",
   "name": "python3"
  },
  "language_info": {
   "codemirror_mode": {
    "name": "ipython",
    "version": 3
   },
   "file_extension": ".py",
   "mimetype": "text/x-python",
   "name": "python",
   "nbconvert_exporter": "python",
   "pygments_lexer": "ipython3",
   "version": "3.10.2"
  }
 },
 "nbformat": 4,
 "nbformat_minor": 5
}