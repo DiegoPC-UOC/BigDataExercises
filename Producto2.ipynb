{
  "cells": [
    {
      "cell_type": "markdown",
      "metadata": {
        "pycharm": {
          "name": "#%% md\n"
        },
        "id": "r_nINF7NJq-3"
      },
      "source": [
        "## a) Import the useful Python libraries."
      ]
    },
    {
      "cell_type": "markdown",
      "source": [
        "Aquí importamos las librerías que vamos a utilizar, pandas para el análisis de datos y manipulación de dataframes, geopandas para datos geoespaciales, dateutil para las fechas y shapely.geometry para trabajar con objetos geométricos en el plano cartesiano"
      ],
      "metadata": {
        "id": "EM8pyy3lKsc9"
      }
    },
    {
      "cell_type": "code",
      "execution_count": null,
      "metadata": {
        "pycharm": {
          "name": "#%%\n"
        },
        "id": "dT_9RnVYJq-7"
      },
      "outputs": [],
      "source": [
        "import pandas as pd\n",
        "import geopandas as gpd\n",
        "import dateutil\n",
        "from shapely.geometry import shape,Point,Polygon,mapping"
      ]
    },
    {
      "cell_type": "markdown",
      "metadata": {
        "pycharm": {
          "name": "#%% md\n"
        },
        "id": "EQ9k4fuEJq-9"
      },
      "source": [
        "## b) Import the shapefile of strategic noise map of the agglomeration of Barcelonès I."
      ]
    },
    {
      "cell_type": "markdown",
      "source": [
        "Cargamos el archivo shapefile"
      ],
      "metadata": {
        "id": "yxlMqdhiLNLz"
      }
    },
    {
      "cell_type": "code",
      "execution_count": null,
      "metadata": {
        "pycharm": {
          "name": "#%%\n"
        },
        "id": "7z7s87ArJq-9"
      },
      "outputs": [],
      "source": [
        "fp1 = \"mesBCNI_SHP/mesBCN1.shp\""
      ]
    },
    {
      "cell_type": "markdown",
      "metadata": {
        "pycharm": {
          "name": "#%% md\n"
        },
        "id": "LQiQhZQBJq--"
      },
      "source": [
        "## c) Read the shapefile as Geodataframe (\"Noise\")."
      ]
    },
    {
      "cell_type": "code",
      "execution_count": null,
      "metadata": {
        "pycharm": {
          "name": "#%%\n"
        },
        "id": "EoTW_BoMJq--"
      },
      "outputs": [],
      "source": [
        "Noise = gpd.read_file(fp1)"
      ]
    },
    {
      "cell_type": "markdown",
      "metadata": {
        "pycharm": {
          "name": "#%% md\n"
        },
        "id": "mPsUr51fJq-_"
      },
      "source": [
        "## d) Check the table of the Geodataframe."
      ]
    },
    {
      "cell_type": "markdown",
      "source": [
        "Podemos ver las 5 primeras filas de datos de nuestro geodataframe."
      ],
      "metadata": {
        "id": "LKZrajRDLVSj"
      }
    },
    {
      "cell_type": "code",
      "execution_count": null,
      "metadata": {
        "pycharm": {
          "name": "#%%\n"
        },
        "id": "ZjOWZGYvJq-_",
        "outputId": "0a0a4e69-f37e-48aa-c032-598ab94a5904"
      },
      "outputs": [
        {
          "data": {
            "text/html": [
              "<div>\n",
              "<style scoped>\n",
              "    .dataframe tbody tr th:only-of-type {\n",
              "        vertical-align: middle;\n",
              "    }\n",
              "\n",
              "    .dataframe tbody tr th {\n",
              "        vertical-align: top;\n",
              "    }\n",
              "\n",
              "    .dataframe thead th {\n",
              "        text-align: right;\n",
              "    }\n",
              "</style>\n",
              "<table border=\"1\" class=\"dataframe\">\n",
              "  <thead>\n",
              "    <tr style=\"text-align: right;\">\n",
              "      <th></th>\n",
              "      <th>IDTRAM</th>\n",
              "      <th>TVLDIA</th>\n",
              "      <th>TVLVES</th>\n",
              "      <th>TVLNIT</th>\n",
              "      <th>TVLDEN</th>\n",
              "      <th>TFLDIA</th>\n",
              "      <th>TFLVES</th>\n",
              "      <th>TFLNIT</th>\n",
              "      <th>TFLDEN</th>\n",
              "      <th>TALDIA</th>\n",
              "      <th>...</th>\n",
              "      <th>TOTDIA</th>\n",
              "      <th>TOTVES</th>\n",
              "      <th>TOTNIT</th>\n",
              "      <th>TOTDEN</th>\n",
              "      <th>POBTOT</th>\n",
              "      <th>POBINT</th>\n",
              "      <th>POBEXT</th>\n",
              "      <th>IDAGLO</th>\n",
              "      <th>CODI_INE</th>\n",
              "      <th>geometry</th>\n",
              "    </tr>\n",
              "  </thead>\n",
              "  <tbody>\n",
              "    <tr>\n",
              "      <th>0</th>\n",
              "      <td>1</td>\n",
              "      <td>69</td>\n",
              "      <td>69</td>\n",
              "      <td>64</td>\n",
              "      <td>72</td>\n",
              "      <td>0</td>\n",
              "      <td>0</td>\n",
              "      <td>0</td>\n",
              "      <td>0</td>\n",
              "      <td>0</td>\n",
              "      <td>...</td>\n",
              "      <td>69</td>\n",
              "      <td>69</td>\n",
              "      <td>64</td>\n",
              "      <td>72</td>\n",
              "      <td>419</td>\n",
              "      <td>0</td>\n",
              "      <td>419</td>\n",
              "      <td>BCN1</td>\n",
              "      <td>08019</td>\n",
              "      <td>LINESTRING (431811.319 4586053.808, 431815.939...</td>\n",
              "    </tr>\n",
              "    <tr>\n",
              "      <th>1</th>\n",
              "      <td>2</td>\n",
              "      <td>63</td>\n",
              "      <td>63</td>\n",
              "      <td>56</td>\n",
              "      <td>65</td>\n",
              "      <td>0</td>\n",
              "      <td>0</td>\n",
              "      <td>0</td>\n",
              "      <td>0</td>\n",
              "      <td>0</td>\n",
              "      <td>...</td>\n",
              "      <td>63</td>\n",
              "      <td>63</td>\n",
              "      <td>56</td>\n",
              "      <td>65</td>\n",
              "      <td>225</td>\n",
              "      <td>0</td>\n",
              "      <td>225</td>\n",
              "      <td>BCN1</td>\n",
              "      <td>08019</td>\n",
              "      <td>LINESTRING (431945.629 4586034.777, 431909.599...</td>\n",
              "    </tr>\n",
              "    <tr>\n",
              "      <th>2</th>\n",
              "      <td>3</td>\n",
              "      <td>63</td>\n",
              "      <td>63</td>\n",
              "      <td>56</td>\n",
              "      <td>65</td>\n",
              "      <td>0</td>\n",
              "      <td>0</td>\n",
              "      <td>0</td>\n",
              "      <td>0</td>\n",
              "      <td>0</td>\n",
              "      <td>...</td>\n",
              "      <td>63</td>\n",
              "      <td>63</td>\n",
              "      <td>56</td>\n",
              "      <td>65</td>\n",
              "      <td>76</td>\n",
              "      <td>0</td>\n",
              "      <td>76</td>\n",
              "      <td>BCN1</td>\n",
              "      <td>08019</td>\n",
              "      <td>LINESTRING (431856.848 4585949.038, 431921.499...</td>\n",
              "    </tr>\n",
              "    <tr>\n",
              "      <th>3</th>\n",
              "      <td>4</td>\n",
              "      <td>58</td>\n",
              "      <td>58</td>\n",
              "      <td>51</td>\n",
              "      <td>60</td>\n",
              "      <td>0</td>\n",
              "      <td>0</td>\n",
              "      <td>0</td>\n",
              "      <td>0</td>\n",
              "      <td>0</td>\n",
              "      <td>...</td>\n",
              "      <td>58</td>\n",
              "      <td>58</td>\n",
              "      <td>51</td>\n",
              "      <td>60</td>\n",
              "      <td>161</td>\n",
              "      <td>0</td>\n",
              "      <td>161</td>\n",
              "      <td>BCN1</td>\n",
              "      <td>08019</td>\n",
              "      <td>LINESTRING (431649.598 4585971.319, 431664.329...</td>\n",
              "    </tr>\n",
              "    <tr>\n",
              "      <th>4</th>\n",
              "      <td>5</td>\n",
              "      <td>67</td>\n",
              "      <td>67</td>\n",
              "      <td>62</td>\n",
              "      <td>70</td>\n",
              "      <td>0</td>\n",
              "      <td>0</td>\n",
              "      <td>0</td>\n",
              "      <td>0</td>\n",
              "      <td>0</td>\n",
              "      <td>...</td>\n",
              "      <td>67</td>\n",
              "      <td>67</td>\n",
              "      <td>62</td>\n",
              "      <td>70</td>\n",
              "      <td>243</td>\n",
              "      <td>0</td>\n",
              "      <td>243</td>\n",
              "      <td>BCN1</td>\n",
              "      <td>08019</td>\n",
              "      <td>LINESTRING (431437.549 4586107.351, 431451.810...</td>\n",
              "    </tr>\n",
              "  </tbody>\n",
              "</table>\n",
              "<p>5 rows × 31 columns</p>\n",
              "</div>"
            ],
            "text/plain": [
              "  IDTRAM  TVLDIA  TVLVES  TVLNIT  TVLDEN  TFLDIA  TFLVES  TFLNIT  TFLDEN  \\\n",
              "0      1      69      69      64      72       0       0       0       0   \n",
              "1      2      63      63      56      65       0       0       0       0   \n",
              "2      3      63      63      56      65       0       0       0       0   \n",
              "3      4      58      58      51      60       0       0       0       0   \n",
              "4      5      67      67      62      70       0       0       0       0   \n",
              "\n",
              "   TALDIA  ...  TOTDIA  TOTVES  TOTNIT  TOTDEN  POBTOT  POBINT  POBEXT  \\\n",
              "0       0  ...      69      69      64      72     419       0     419   \n",
              "1       0  ...      63      63      56      65     225       0     225   \n",
              "2       0  ...      63      63      56      65      76       0      76   \n",
              "3       0  ...      58      58      51      60     161       0     161   \n",
              "4       0  ...      67      67      62      70     243       0     243   \n",
              "\n",
              "   IDAGLO  CODI_INE                                           geometry  \n",
              "0    BCN1     08019  LINESTRING (431811.319 4586053.808, 431815.939...  \n",
              "1    BCN1     08019  LINESTRING (431945.629 4586034.777, 431909.599...  \n",
              "2    BCN1     08019  LINESTRING (431856.848 4585949.038, 431921.499...  \n",
              "3    BCN1     08019  LINESTRING (431649.598 4585971.319, 431664.329...  \n",
              "4    BCN1     08019  LINESTRING (431437.549 4586107.351, 431451.810...  \n",
              "\n",
              "[5 rows x 31 columns]"
            ]
          },
          "execution_count": 4,
          "metadata": {},
          "output_type": "execute_result"
        }
      ],
      "source": [
        "Noise.head()"
      ]
    },
    {
      "cell_type": "markdown",
      "metadata": {
        "pycharm": {
          "name": "#%% md\n"
        },
        "id": "Kr0x5u69Jq_A"
      },
      "source": [
        "## e) Check the number of rows of the dataset \"Noise\"."
      ]
    },
    {
      "cell_type": "markdown",
      "source": [
        "Para contar las filas totales hacemos un recuento de la columna IDTRAM, ya que es primary key del dataframe y por lo tanto esta fila seguro que no contendrá valores nulos, por lo que contando esta columna sabremos las filas totales del geodataframe"
      ],
      "metadata": {
        "id": "EncF2sOULa0q"
      }
    },
    {
      "cell_type": "code",
      "execution_count": null,
      "metadata": {
        "pycharm": {
          "name": "#%%\n"
        },
        "id": "0l8oEGodJq_B",
        "outputId": "05749bc6-135a-4831-b2b8-792c16de5baa"
      },
      "outputs": [
        {
          "data": {
            "text/plain": [
              "16742"
            ]
          },
          "execution_count": 5,
          "metadata": {},
          "output_type": "execute_result"
        }
      ],
      "source": [
        "Noise['IDTRAM'].count()"
      ]
    },
    {
      "cell_type": "markdown",
      "metadata": {
        "id": "RDEscD_uJq_C"
      },
      "source": [
        "## f) Check the data type."
      ]
    },
    {
      "cell_type": "markdown",
      "source": [
        "Comprobamos que efectivamente tenemos un objeto del tipo geopandas."
      ],
      "metadata": {
        "id": "O_ynWua4LqCQ"
      }
    },
    {
      "cell_type": "code",
      "execution_count": null,
      "metadata": {
        "pycharm": {
          "name": "#%%\n"
        },
        "id": "cLbAbsXAJq_C",
        "outputId": "187831ef-ee36-4991-fed7-0737b9349537"
      },
      "outputs": [
        {
          "data": {
            "text/plain": [
              "geopandas.geodataframe.GeoDataFrame"
            ]
          },
          "execution_count": 6,
          "metadata": {},
          "output_type": "execute_result"
        }
      ],
      "source": [
        "type(Noise)"
      ]
    },
    {
      "cell_type": "markdown",
      "metadata": {
        "pycharm": {
          "name": "#%% md\n"
        },
        "id": "eSpFwb7TJq_D"
      },
      "source": [
        "## g) Check the Coordinate Reference system (CRS)."
      ]
    },
    {
      "cell_type": "markdown",
      "source": [
        "Un método que podemos usar con los geopandas es .crs, que nos permite comprobar el sismeta de referencias de coordenadas que posee el shapefile a la hora de mostrar los datos espaciales."
      ],
      "metadata": {
        "id": "9EEWyKUrL283"
      }
    },
    {
      "cell_type": "code",
      "execution_count": null,
      "metadata": {
        "pycharm": {
          "name": "#%%\n"
        },
        "id": "oS85obL2Jq_D",
        "outputId": "0e6feea4-ac87-47a6-bbcd-3f87efa07d80"
      },
      "outputs": [
        {
          "data": {
            "text/plain": [
              "<Derived Projected CRS: EPSG:25831>\n",
              "Name: ETRS89 / UTM zone 31N\n",
              "Axis Info [cartesian]:\n",
              "- E[east]: Easting (metre)\n",
              "- N[north]: Northing (metre)\n",
              "Area of Use:\n",
              "- name: Europe between 0°E and 6°E: Andorra; Belgium - onshore and offshore; Denmark - offshore; Germany - offshore; Jan Mayen - offshore; Norway including Svalbard - onshore and offshore; Spain - onshore and offshore.\n",
              "- bounds: (0.0, 37.0, 6.01, 82.45)\n",
              "Coordinate Operation:\n",
              "- name: UTM zone 31N\n",
              "- method: Transverse Mercator\n",
              "Datum: European Terrestrial Reference System 1989 ensemble\n",
              "- Ellipsoid: GRS 1980\n",
              "- Prime Meridian: Greenwich"
            ]
          },
          "execution_count": 7,
          "metadata": {},
          "output_type": "execute_result"
        }
      ],
      "source": [
        "Noise.crs"
      ]
    },
    {
      "cell_type": "markdown",
      "metadata": {
        "pycharm": {
          "name": "#%% md\n"
        },
        "id": "M_kLexWVJq_D"
      },
      "source": [
        "## h) Check the geometry field format."
      ]
    },
    {
      "cell_type": "markdown",
      "source": [
        "Comprobamos que la columna geometry es del tipo GeometryDtype, por lo que significa que en esta columna se define la geometría de cada registro."
      ],
      "metadata": {
        "id": "7RhNyx_PMjU5"
      }
    },
    {
      "cell_type": "code",
      "execution_count": null,
      "metadata": {
        "pycharm": {
          "name": "#%%\n"
        },
        "id": "jmNAh4bdJq_E",
        "outputId": "a96a919f-f736-4dfb-85fe-0a13488b57a0"
      },
      "outputs": [
        {
          "data": {
            "text/plain": [
              "<geopandas.array.GeometryDtype at 0x1fd9dd6c5e0>"
            ]
          },
          "execution_count": 46,
          "metadata": {},
          "output_type": "execute_result"
        }
      ],
      "source": [
        "Noise['geometry'].dtype"
      ]
    },
    {
      "cell_type": "markdown",
      "metadata": {
        "pycharm": {
          "name": "#%% md\n"
        },
        "id": "0MAUBf0EJq_E"
      },
      "source": [
        "## i) Describing the data variables of the dataset \"Noise\""
      ]
    },
    {
      "cell_type": "markdown",
      "source": [
        "Utilizamos .describe para obtener información númerica de los datos que nos vamos a encontrar."
      ],
      "metadata": {
        "id": "2ZZxCZStNJux"
      }
    },
    {
      "cell_type": "code",
      "execution_count": null,
      "metadata": {
        "pycharm": {
          "name": "#%%\n"
        },
        "id": "erKOerw9Jq_E",
        "outputId": "5b55fa3e-62a0-4a6e-c811-70a8c64f893f"
      },
      "outputs": [
        {
          "data": {
            "text/plain": [
              "count    16742.0\n",
              "mean         0.0\n",
              "std          0.0\n",
              "min          0.0\n",
              "25%          0.0\n",
              "50%          0.0\n",
              "75%          0.0\n",
              "max          0.0\n",
              "Name: OCLDIA, dtype: float64"
            ]
          },
          "execution_count": 57,
          "metadata": {},
          "output_type": "execute_result"
        }
      ],
      "source": [
        "Noise.describe()"
      ]
    },
    {
      "cell_type": "markdown",
      "metadata": {
        "pycharm": {
          "name": "#%% md\n"
        },
        "id": "40cNK2kZJq_F"
      },
      "source": [
        ""
      ]
    },
    {
      "cell_type": "markdown",
      "source": [
        "Podemos obtener estadísticas numéticas sobre columnas específicas del dataframe."
      ],
      "metadata": {
        "id": "CGuHrtnHNVRD"
      }
    },
    {
      "cell_type": "code",
      "execution_count": null,
      "metadata": {
        "pycharm": {
          "name": "#%%\n"
        },
        "id": "mUtES3vVJq_F",
        "outputId": "807a4bf8-2364-40a1-e83c-66e6c8305fdf"
      },
      "outputs": [
        {
          "data": {
            "text/plain": [
              "58.84541870744236"
            ]
          },
          "execution_count": 50,
          "metadata": {},
          "output_type": "execute_result"
        }
      ],
      "source": [
        "Noise[\"TVLDIA\"].mean()"
      ]
    },
    {
      "cell_type": "markdown",
      "metadata": {
        "id": "zWxonfiNJq_F"
      },
      "source": [
        "## j) Calculate the number of non-null unique INLDIA entries."
      ]
    },
    {
      "cell_type": "code",
      "execution_count": null,
      "metadata": {
        "pycharm": {
          "name": "#%%\n"
        },
        "id": "Ea-PRzYCJq_F",
        "outputId": "dbb90f36-abf5-4feb-b119-a3e21c6bd79e"
      },
      "outputs": [
        {
          "data": {
            "text/plain": [
              "22"
            ]
          },
          "execution_count": 54,
          "metadata": {},
          "output_type": "execute_result"
        }
      ],
      "source": [
        "Noise[\"INLDIA\"].nunique()"
      ]
    },
    {
      "cell_type": "markdown",
      "metadata": {
        "id": "2aswOTibJq_G"
      },
      "source": [
        "## k) Calculate the number of non-null unique TVLVES entries and describe the variable."
      ]
    },
    {
      "cell_type": "code",
      "execution_count": null,
      "metadata": {
        "pycharm": {
          "name": "#%%\n"
        },
        "id": "37BLVe48Jq_G",
        "outputId": "e69246bf-6648-4876-efbd-4bb05614e277"
      },
      "outputs": [
        {
          "data": {
            "text/plain": [
              "58"
            ]
          },
          "execution_count": 34,
          "metadata": {},
          "output_type": "execute_result"
        }
      ],
      "source": [
        "Noise[\"TVLVES\"].nunique()"
      ]
    },
    {
      "cell_type": "code",
      "execution_count": null,
      "metadata": {
        "pycharm": {
          "name": "#%%\n"
        },
        "id": "7QPRnXsJJq_G",
        "outputId": "ff1b34c7-be7e-4296-be56-a508d883e4cc"
      },
      "outputs": [
        {
          "data": {
            "text/plain": [
              "count    16742.000000\n",
              "mean        57.440748\n",
              "std         16.409335\n",
              "min          0.000000\n",
              "25%         57.000000\n",
              "50%         62.000000\n",
              "75%         66.000000\n",
              "max         77.000000\n",
              "Name: TVLVES, dtype: float64"
            ]
          },
          "execution_count": 56,
          "metadata": {},
          "output_type": "execute_result"
        }
      ],
      "source": [
        "Noise[\"TVLVES\"].describe()"
      ]
    },
    {
      "cell_type": "markdown",
      "metadata": {
        "id": "rxcBwGv5Jq_H"
      },
      "source": [
        "## l) Check the presence of Null values in the dataset \"Noise\"."
      ]
    },
    {
      "cell_type": "markdown",
      "source": [
        "Podemos comprobar los nulos del dataset aplicando el .isnull, que nos dará una serie booleana con un true si contiene nulos o un false si la columna no tiene nulos."
      ],
      "metadata": {
        "id": "KuZZt1paNqCb"
      }
    },
    {
      "cell_type": "code",
      "execution_count": null,
      "metadata": {
        "pycharm": {
          "name": "#%%\n"
        },
        "id": "oCG1fk-gJq_H",
        "outputId": "c4eb4b71-5c5f-47ad-fa7c-65998f047901"
      },
      "outputs": [
        {
          "data": {
            "text/plain": [
              "IDTRAM      False\n",
              "TVLDIA      False\n",
              "TVLVES      False\n",
              "TVLNIT      False\n",
              "TVLDEN      False\n",
              "TFLDIA      False\n",
              "TFLVES      False\n",
              "TFLNIT      False\n",
              "TFLDEN      False\n",
              "TALDIA      False\n",
              "TALVES      False\n",
              "TALNIT      False\n",
              "TALDEN      False\n",
              "INLDIA      False\n",
              "INLVES      False\n",
              "INLNIT      False\n",
              "INLDEN      False\n",
              "OCLDIA      False\n",
              "OCLVES      False\n",
              "OCLNIT      False\n",
              "OCLDEN      False\n",
              "TOTDIA      False\n",
              "TOTVES      False\n",
              "TOTNIT      False\n",
              "TOTDEN      False\n",
              "POBTOT      False\n",
              "POBINT      False\n",
              "POBEXT      False\n",
              "IDAGLO      False\n",
              "CODI_INE    False\n",
              "geometry    False\n",
              "dtype: bool"
            ]
          },
          "execution_count": 27,
          "metadata": {},
          "output_type": "execute_result"
        }
      ],
      "source": [
        "Noise.isnull().any()"
      ]
    },
    {
      "cell_type": "markdown",
      "metadata": {
        "id": "gWPZmYRBJq_H"
      },
      "source": [
        "## m) Count the number of Null values in the dataset \"Noise\"."
      ]
    },
    {
      "cell_type": "markdown",
      "source": [
        "También podemos contar exactamente los nulos de las columnas del dataset"
      ],
      "metadata": {
        "id": "NXVx62ACN5eN"
      }
    },
    {
      "cell_type": "code",
      "execution_count": null,
      "metadata": {
        "pycharm": {
          "name": "#%%\n"
        },
        "id": "k6_Gy9axJq_H",
        "outputId": "f2d6d96d-ec56-418d-843c-ffce07a9a57b"
      },
      "outputs": [
        {
          "data": {
            "text/plain": [
              "IDTRAM      0\n",
              "TVLDIA      0\n",
              "TVLVES      0\n",
              "TVLNIT      0\n",
              "TVLDEN      0\n",
              "TFLDIA      0\n",
              "TFLVES      0\n",
              "TFLNIT      0\n",
              "TFLDEN      0\n",
              "TALDIA      0\n",
              "TALVES      0\n",
              "TALNIT      0\n",
              "TALDEN      0\n",
              "INLDIA      0\n",
              "INLVES      0\n",
              "INLNIT      0\n",
              "INLDEN      0\n",
              "OCLDIA      0\n",
              "OCLVES      0\n",
              "OCLNIT      0\n",
              "OCLDEN      0\n",
              "TOTDIA      0\n",
              "TOTVES      0\n",
              "TOTNIT      0\n",
              "TOTDEN      0\n",
              "POBTOT      0\n",
              "POBINT      0\n",
              "POBEXT      0\n",
              "IDAGLO      0\n",
              "CODI_INE    0\n",
              "geometry    0\n",
              "dtype: int64"
            ]
          },
          "execution_count": 28,
          "metadata": {},
          "output_type": "execute_result"
        }
      ],
      "source": [
        "count_nan = len(Noise) - Noise.count()\n",
        "count_nan"
      ]
    },
    {
      "cell_type": "markdown",
      "metadata": {
        "id": "wqh05CNbJq_I"
      },
      "source": [
        "## n) Drop the Null Values in the columns 'IDTRAM' and 'TVLVES' and build a new geodataframe called \"Noise2\"."
      ]
    },
    {
      "cell_type": "markdown",
      "source": [
        "Con .drop podemos eliminar los valores nulos de las columnas que especifiquemos, esto junto a los métodos anteriores para detectar nulos nos será útil para limpiar los datos."
      ],
      "metadata": {
        "id": "57duakSPOCdB"
      }
    },
    {
      "cell_type": "code",
      "execution_count": null,
      "metadata": {
        "pycharm": {
          "name": "#%%\n"
        },
        "id": "-vzcsMlqJq_I"
      },
      "outputs": [],
      "source": [
        "Noise2=Noise.dropna(subset=['IDTRAM','TVLVES'])"
      ]
    },
    {
      "cell_type": "markdown",
      "metadata": {
        "id": "_hinnYRIJq_I"
      },
      "source": [
        "## o) Check the number of rows of the dataset \"Noise2\"."
      ]
    },
    {
      "cell_type": "code",
      "execution_count": null,
      "metadata": {
        "pycharm": {
          "name": "#%%\n"
        },
        "id": "mPK1TkkoJq_I",
        "outputId": "049b48d2-9643-4411-deda-f6e234f1bb42"
      },
      "outputs": [
        {
          "data": {
            "text/plain": [
              "16742"
            ]
          },
          "execution_count": 30,
          "metadata": {},
          "output_type": "execute_result"
        }
      ],
      "source": [
        "Noise2['IDAGLO'].count()"
      ]
    },
    {
      "cell_type": "markdown",
      "metadata": {
        "id": "Y33OmqDvJq_I"
      },
      "source": [
        "## p) Number of non-null unique IDTRAM entries of the dataset \"Noise2\"."
      ]
    },
    {
      "cell_type": "markdown",
      "source": [
        "Comprobamos que la columna IDTRAM es única para cada registro, ya que tiene tantos no nulos únicos como filas, lo que encaja con el concepto de clave primaria que no puede ser nula ni repetirse entre los registros."
      ],
      "metadata": {
        "id": "7t9bJVcgOQyD"
      }
    },
    {
      "cell_type": "code",
      "execution_count": null,
      "metadata": {
        "pycharm": {
          "name": "#%%\n"
        },
        "id": "xlQkhS0OJq_J",
        "outputId": "0775f6a4-d690-41c6-da01-86c95fd1cd00"
      },
      "outputs": [
        {
          "data": {
            "text/plain": [
              "16742"
            ]
          },
          "execution_count": 35,
          "metadata": {},
          "output_type": "execute_result"
        }
      ],
      "source": [
        "Noise2['IDTRAM'].nunique()"
      ]
    },
    {
      "cell_type": "markdown",
      "metadata": {
        "id": "YLh1hSLyJq_J"
      },
      "source": [
        "## q) Number of non-null unique IDAGLO entries of the dataset \"Noise2\"."
      ]
    },
    {
      "cell_type": "markdown",
      "source": [
        "Según la referencia de los metadatos de este dataset, el IDAGLO representa: Nombre de la aglomeración y vemos que en nuestro caso siempre es BCN1 porque estamos centrándonos en BCN1.\n"
      ],
      "metadata": {
        "id": "wpq1WRh8Ox7G"
      }
    },
    {
      "cell_type": "code",
      "execution_count": null,
      "metadata": {
        "pycharm": {
          "name": "#%%\n"
        },
        "id": "WlLzt0KmJq_J",
        "outputId": "14c10778-72e0-4201-ff4d-723e0d2446aa"
      },
      "outputs": [
        {
          "data": {
            "text/plain": [
              "1"
            ]
          },
          "execution_count": 36,
          "metadata": {},
          "output_type": "execute_result"
        }
      ],
      "source": [
        "Noise2['IDAGLO'].nunique()"
      ]
    },
    {
      "cell_type": "markdown",
      "metadata": {
        "id": "qpHFWgT2Jq_J"
      },
      "source": [
        "## r) Describing the dataset \"Noise2\"."
      ]
    },
    {
      "cell_type": "code",
      "execution_count": null,
      "metadata": {
        "pycharm": {
          "name": "#%%\n"
        },
        "id": "kQLpClPQJq_K",
        "outputId": "c081aaef-e1bc-48fe-9d04-29114fb1e793"
      },
      "outputs": [
        {
          "data": {
            "text/html": [
              "<div>\n",
              "<style scoped>\n",
              "    .dataframe tbody tr th:only-of-type {\n",
              "        vertical-align: middle;\n",
              "    }\n",
              "\n",
              "    .dataframe tbody tr th {\n",
              "        vertical-align: top;\n",
              "    }\n",
              "\n",
              "    .dataframe thead th {\n",
              "        text-align: right;\n",
              "    }\n",
              "</style>\n",
              "<table border=\"1\" class=\"dataframe\">\n",
              "  <thead>\n",
              "    <tr style=\"text-align: right;\">\n",
              "      <th></th>\n",
              "      <th>TVLDIA</th>\n",
              "      <th>TVLVES</th>\n",
              "      <th>TVLNIT</th>\n",
              "      <th>TVLDEN</th>\n",
              "      <th>TFLDIA</th>\n",
              "      <th>TFLVES</th>\n",
              "      <th>TFLNIT</th>\n",
              "      <th>TFLDEN</th>\n",
              "      <th>TALDIA</th>\n",
              "      <th>TALVES</th>\n",
              "      <th>...</th>\n",
              "      <th>OCLVES</th>\n",
              "      <th>OCLNIT</th>\n",
              "      <th>OCLDEN</th>\n",
              "      <th>TOTDIA</th>\n",
              "      <th>TOTVES</th>\n",
              "      <th>TOTNIT</th>\n",
              "      <th>TOTDEN</th>\n",
              "      <th>POBTOT</th>\n",
              "      <th>POBINT</th>\n",
              "      <th>POBEXT</th>\n",
              "    </tr>\n",
              "  </thead>\n",
              "  <tbody>\n",
              "    <tr>\n",
              "      <th>count</th>\n",
              "      <td>16742.000000</td>\n",
              "      <td>16742.000000</td>\n",
              "      <td>16742.000000</td>\n",
              "      <td>16742.000000</td>\n",
              "      <td>16742.000000</td>\n",
              "      <td>16742.000000</td>\n",
              "      <td>16742.000000</td>\n",
              "      <td>16742.000000</td>\n",
              "      <td>16742.0</td>\n",
              "      <td>16742.0</td>\n",
              "      <td>...</td>\n",
              "      <td>16742.000000</td>\n",
              "      <td>16742.000000</td>\n",
              "      <td>16742.000000</td>\n",
              "      <td>16742.000000</td>\n",
              "      <td>16742.000000</td>\n",
              "      <td>16742.000000</td>\n",
              "      <td>16742.000000</td>\n",
              "      <td>16742.000000</td>\n",
              "      <td>16742.000000</td>\n",
              "      <td>16742.000000</td>\n",
              "    </tr>\n",
              "    <tr>\n",
              "      <th>mean</th>\n",
              "      <td>58.845419</td>\n",
              "      <td>57.440748</td>\n",
              "      <td>51.615697</td>\n",
              "      <td>60.265022</td>\n",
              "      <td>2.384303</td>\n",
              "      <td>2.313642</td>\n",
              "      <td>2.075081</td>\n",
              "      <td>2.484649</td>\n",
              "      <td>0.0</td>\n",
              "      <td>0.0</td>\n",
              "      <td>...</td>\n",
              "      <td>0.653267</td>\n",
              "      <td>2.375463</td>\n",
              "      <td>2.643472</td>\n",
              "      <td>62.118863</td>\n",
              "      <td>60.575977</td>\n",
              "      <td>54.569824</td>\n",
              "      <td>63.717955</td>\n",
              "      <td>98.187373</td>\n",
              "      <td>11.534882</td>\n",
              "      <td>86.652491</td>\n",
              "    </tr>\n",
              "    <tr>\n",
              "      <th>std</th>\n",
              "      <td>16.799869</td>\n",
              "      <td>16.409335</td>\n",
              "      <td>15.294187</td>\n",
              "      <td>17.178666</td>\n",
              "      <td>10.681613</td>\n",
              "      <td>10.357224</td>\n",
              "      <td>9.321741</td>\n",
              "      <td>11.113437</td>\n",
              "      <td>0.0</td>\n",
              "      <td>0.0</td>\n",
              "      <td>...</td>\n",
              "      <td>6.182074</td>\n",
              "      <td>11.508320</td>\n",
              "      <td>12.672604</td>\n",
              "      <td>7.518329</td>\n",
              "      <td>7.465553</td>\n",
              "      <td>8.027668</td>\n",
              "      <td>7.639956</td>\n",
              "      <td>133.267770</td>\n",
              "      <td>53.307138</td>\n",
              "      <td>130.068519</td>\n",
              "    </tr>\n",
              "    <tr>\n",
              "      <th>min</th>\n",
              "      <td>0.000000</td>\n",
              "      <td>0.000000</td>\n",
              "      <td>0.000000</td>\n",
              "      <td>0.000000</td>\n",
              "      <td>0.000000</td>\n",
              "      <td>0.000000</td>\n",
              "      <td>0.000000</td>\n",
              "      <td>0.000000</td>\n",
              "      <td>0.0</td>\n",
              "      <td>0.0</td>\n",
              "      <td>...</td>\n",
              "      <td>0.000000</td>\n",
              "      <td>0.000000</td>\n",
              "      <td>0.000000</td>\n",
              "      <td>0.000000</td>\n",
              "      <td>0.000000</td>\n",
              "      <td>0.000000</td>\n",
              "      <td>0.000000</td>\n",
              "      <td>0.000000</td>\n",
              "      <td>0.000000</td>\n",
              "      <td>0.000000</td>\n",
              "    </tr>\n",
              "    <tr>\n",
              "      <th>25%</th>\n",
              "      <td>58.000000</td>\n",
              "      <td>57.000000</td>\n",
              "      <td>50.000000</td>\n",
              "      <td>59.000000</td>\n",
              "      <td>0.000000</td>\n",
              "      <td>0.000000</td>\n",
              "      <td>0.000000</td>\n",
              "      <td>0.000000</td>\n",
              "      <td>0.0</td>\n",
              "      <td>0.0</td>\n",
              "      <td>...</td>\n",
              "      <td>0.000000</td>\n",
              "      <td>0.000000</td>\n",
              "      <td>0.000000</td>\n",
              "      <td>58.000000</td>\n",
              "      <td>57.000000</td>\n",
              "      <td>50.000000</td>\n",
              "      <td>60.000000</td>\n",
              "      <td>7.000000</td>\n",
              "      <td>0.000000</td>\n",
              "      <td>0.000000</td>\n",
              "    </tr>\n",
              "    <tr>\n",
              "      <th>50%</th>\n",
              "      <td>63.000000</td>\n",
              "      <td>62.000000</td>\n",
              "      <td>55.000000</td>\n",
              "      <td>64.000000</td>\n",
              "      <td>0.000000</td>\n",
              "      <td>0.000000</td>\n",
              "      <td>0.000000</td>\n",
              "      <td>0.000000</td>\n",
              "      <td>0.0</td>\n",
              "      <td>0.0</td>\n",
              "      <td>...</td>\n",
              "      <td>0.000000</td>\n",
              "      <td>0.000000</td>\n",
              "      <td>0.000000</td>\n",
              "      <td>63.000000</td>\n",
              "      <td>62.000000</td>\n",
              "      <td>56.000000</td>\n",
              "      <td>65.000000</td>\n",
              "      <td>53.000000</td>\n",
              "      <td>0.000000</td>\n",
              "      <td>38.000000</td>\n",
              "    </tr>\n",
              "    <tr>\n",
              "      <th>75%</th>\n",
              "      <td>67.000000</td>\n",
              "      <td>66.000000</td>\n",
              "      <td>60.000000</td>\n",
              "      <td>69.000000</td>\n",
              "      <td>0.000000</td>\n",
              "      <td>0.000000</td>\n",
              "      <td>0.000000</td>\n",
              "      <td>0.000000</td>\n",
              "      <td>0.0</td>\n",
              "      <td>0.0</td>\n",
              "      <td>...</td>\n",
              "      <td>0.000000</td>\n",
              "      <td>0.000000</td>\n",
              "      <td>0.000000</td>\n",
              "      <td>67.000000</td>\n",
              "      <td>66.000000</td>\n",
              "      <td>60.000000</td>\n",
              "      <td>69.000000</td>\n",
              "      <td>137.750000</td>\n",
              "      <td>0.000000</td>\n",
              "      <td>119.000000</td>\n",
              "    </tr>\n",
              "    <tr>\n",
              "      <th>max</th>\n",
              "      <td>79.000000</td>\n",
              "      <td>77.000000</td>\n",
              "      <td>73.000000</td>\n",
              "      <td>81.000000</td>\n",
              "      <td>67.000000</td>\n",
              "      <td>64.000000</td>\n",
              "      <td>58.000000</td>\n",
              "      <td>67.000000</td>\n",
              "      <td>0.0</td>\n",
              "      <td>0.0</td>\n",
              "      <td>...</td>\n",
              "      <td>66.000000</td>\n",
              "      <td>68.000000</td>\n",
              "      <td>74.000000</td>\n",
              "      <td>79.000000</td>\n",
              "      <td>77.000000</td>\n",
              "      <td>73.000000</td>\n",
              "      <td>81.000000</td>\n",
              "      <td>2776.000000</td>\n",
              "      <td>1773.000000</td>\n",
              "      <td>2776.000000</td>\n",
              "    </tr>\n",
              "  </tbody>\n",
              "</table>\n",
              "<p>8 rows × 27 columns</p>\n",
              "</div>"
            ],
            "text/plain": [
              "             TVLDIA        TVLVES        TVLNIT        TVLDEN        TFLDIA  \\\n",
              "count  16742.000000  16742.000000  16742.000000  16742.000000  16742.000000   \n",
              "mean      58.845419     57.440748     51.615697     60.265022      2.384303   \n",
              "std       16.799869     16.409335     15.294187     17.178666     10.681613   \n",
              "min        0.000000      0.000000      0.000000      0.000000      0.000000   \n",
              "25%       58.000000     57.000000     50.000000     59.000000      0.000000   \n",
              "50%       63.000000     62.000000     55.000000     64.000000      0.000000   \n",
              "75%       67.000000     66.000000     60.000000     69.000000      0.000000   \n",
              "max       79.000000     77.000000     73.000000     81.000000     67.000000   \n",
              "\n",
              "             TFLVES        TFLNIT        TFLDEN   TALDIA   TALVES  ...  \\\n",
              "count  16742.000000  16742.000000  16742.000000  16742.0  16742.0  ...   \n",
              "mean       2.313642      2.075081      2.484649      0.0      0.0  ...   \n",
              "std       10.357224      9.321741     11.113437      0.0      0.0  ...   \n",
              "min        0.000000      0.000000      0.000000      0.0      0.0  ...   \n",
              "25%        0.000000      0.000000      0.000000      0.0      0.0  ...   \n",
              "50%        0.000000      0.000000      0.000000      0.0      0.0  ...   \n",
              "75%        0.000000      0.000000      0.000000      0.0      0.0  ...   \n",
              "max       64.000000     58.000000     67.000000      0.0      0.0  ...   \n",
              "\n",
              "             OCLVES        OCLNIT        OCLDEN        TOTDIA        TOTVES  \\\n",
              "count  16742.000000  16742.000000  16742.000000  16742.000000  16742.000000   \n",
              "mean       0.653267      2.375463      2.643472     62.118863     60.575977   \n",
              "std        6.182074     11.508320     12.672604      7.518329      7.465553   \n",
              "min        0.000000      0.000000      0.000000      0.000000      0.000000   \n",
              "25%        0.000000      0.000000      0.000000     58.000000     57.000000   \n",
              "50%        0.000000      0.000000      0.000000     63.000000     62.000000   \n",
              "75%        0.000000      0.000000      0.000000     67.000000     66.000000   \n",
              "max       66.000000     68.000000     74.000000     79.000000     77.000000   \n",
              "\n",
              "             TOTNIT        TOTDEN        POBTOT        POBINT        POBEXT  \n",
              "count  16742.000000  16742.000000  16742.000000  16742.000000  16742.000000  \n",
              "mean      54.569824     63.717955     98.187373     11.534882     86.652491  \n",
              "std        8.027668      7.639956    133.267770     53.307138    130.068519  \n",
              "min        0.000000      0.000000      0.000000      0.000000      0.000000  \n",
              "25%       50.000000     60.000000      7.000000      0.000000      0.000000  \n",
              "50%       56.000000     65.000000     53.000000      0.000000     38.000000  \n",
              "75%       60.000000     69.000000    137.750000      0.000000    119.000000  \n",
              "max       73.000000     81.000000   2776.000000   1773.000000   2776.000000  \n",
              "\n",
              "[8 rows x 27 columns]"
            ]
          },
          "execution_count": 37,
          "metadata": {},
          "output_type": "execute_result"
        }
      ],
      "source": [
        "Noise2.describe()"
      ]
    },
    {
      "cell_type": "markdown",
      "metadata": {
        "id": "jE-U3N3iJq_K"
      },
      "source": [
        "## s) Check the presence of Null values in the dataset \"Noise2\"."
      ]
    },
    {
      "cell_type": "code",
      "execution_count": null,
      "metadata": {
        "pycharm": {
          "name": "#%%\n"
        },
        "id": "swP3BKN4Jq_K",
        "outputId": "9c619ec4-e4e7-4eea-c3ea-83b17eab2d38"
      },
      "outputs": [
        {
          "data": {
            "text/plain": [
              "IDTRAM      False\n",
              "TVLDIA      False\n",
              "TVLVES      False\n",
              "TVLNIT      False\n",
              "TVLDEN      False\n",
              "TFLDIA      False\n",
              "TFLVES      False\n",
              "TFLNIT      False\n",
              "TFLDEN      False\n",
              "TALDIA      False\n",
              "TALVES      False\n",
              "TALNIT      False\n",
              "TALDEN      False\n",
              "INLDIA      False\n",
              "INLVES      False\n",
              "INLNIT      False\n",
              "INLDEN      False\n",
              "OCLDIA      False\n",
              "OCLVES      False\n",
              "OCLNIT      False\n",
              "OCLDEN      False\n",
              "TOTDIA      False\n",
              "TOTVES      False\n",
              "TOTNIT      False\n",
              "TOTDEN      False\n",
              "POBTOT      False\n",
              "POBINT      False\n",
              "POBEXT      False\n",
              "IDAGLO      False\n",
              "CODI_INE    False\n",
              "geometry    False\n",
              "dtype: bool"
            ]
          },
          "execution_count": 38,
          "metadata": {},
          "output_type": "execute_result"
        }
      ],
      "source": [
        "Noise2.isnull().any()"
      ]
    },
    {
      "cell_type": "markdown",
      "metadata": {
        "id": "DniIbuxXJq_K"
      },
      "source": [
        "## t) Count the number of Null values in the dataset \"Noise2\"."
      ]
    },
    {
      "cell_type": "code",
      "execution_count": null,
      "metadata": {
        "pycharm": {
          "name": "#%%\n"
        },
        "id": "vpMYWvg9Jq_K",
        "outputId": "78c66a42-63ec-4e8a-dbf3-4ac518314c03"
      },
      "outputs": [
        {
          "data": {
            "text/plain": [
              "IDTRAM      0\n",
              "TVLDIA      0\n",
              "TVLVES      0\n",
              "TVLNIT      0\n",
              "TVLDEN      0\n",
              "TFLDIA      0\n",
              "TFLVES      0\n",
              "TFLNIT      0\n",
              "TFLDEN      0\n",
              "TALDIA      0\n",
              "TALVES      0\n",
              "TALNIT      0\n",
              "TALDEN      0\n",
              "INLDIA      0\n",
              "INLVES      0\n",
              "INLNIT      0\n",
              "INLDEN      0\n",
              "OCLDIA      0\n",
              "OCLVES      0\n",
              "OCLNIT      0\n",
              "OCLDEN      0\n",
              "TOTDIA      0\n",
              "TOTVES      0\n",
              "TOTNIT      0\n",
              "TOTDEN      0\n",
              "POBTOT      0\n",
              "POBINT      0\n",
              "POBEXT      0\n",
              "IDAGLO      0\n",
              "CODI_INE    0\n",
              "geometry    0\n",
              "dtype: int64"
            ]
          },
          "execution_count": 39,
          "metadata": {},
          "output_type": "execute_result"
        }
      ],
      "source": [
        "count_nan2 = len(Noise2) - Noise2.count()\n",
        "count_nan2"
      ]
    }
  ],
  "metadata": {
    "kernelspec": {
      "display_name": "Python 3 (ipykernel)",
      "language": "python",
      "name": "python3"
    },
    "language_info": {
      "codemirror_mode": {
        "name": "ipython",
        "version": 3
      },
      "file_extension": ".py",
      "mimetype": "text/x-python",
      "name": "python",
      "nbconvert_exporter": "python",
      "pygments_lexer": "ipython3",
      "version": "3.9.12"
    },
    "colab": {
      "name": "Producto2.ipynb",
      "provenance": [],
      "collapsed_sections": []
    }
  },
  "nbformat": 4,
  "nbformat_minor": 0
}