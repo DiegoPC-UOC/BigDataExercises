{
 "cells": [
  {
   "cell_type": "markdown",
   "metadata": {
    "pycharm": {
     "name": "#%% md\n"
    }
   },
   "source": [
    "## a) Import the useful Python libraries."
   ]
  },
  {
   "cell_type": "code",
   "execution_count": 9,
   "metadata": {
    "pycharm": {
     "name": "#%%\n"
    }
   },
   "outputs": [],
   "source": [
    "import pandas as pd\n",
    "import geopandas as gpd\n",
    "import dateutil\n",
    "from shapely.geometry import shape,Point,Polygon,mapping"
   ]
  },
  {
   "cell_type": "markdown",
   "metadata": {
    "pycharm": {
     "name": "#%% md\n"
    }
   },
   "source": [
    "## b) Import the shapefile of strategic noise map of the agglomeration of Barcelonès I."
   ]
  },
  {
   "cell_type": "code",
   "execution_count": 10,
   "metadata": {
    "pycharm": {
     "name": "#%%\n"
    }
   },
   "outputs": [],
   "source": [
    "fp1 = \"mesBCNI_SHP/mesBCN1.shp\""
   ]
  },
  {
   "cell_type": "markdown",
   "metadata": {
    "pycharm": {
     "name": "#%% md\n"
    }
   },
   "source": [
    "## c) Read the shapefile as Geodataframe (\"Noise\")."
   ]
  },
  {
   "cell_type": "code",
   "execution_count": 11,
   "metadata": {
    "pycharm": {
     "name": "#%%\n"
    }
   },
   "outputs": [],
   "source": [
    "Noise = gpd.read_file(fp1)"
   ]
  },
  {
   "cell_type": "markdown",
   "metadata": {
    "pycharm": {
     "name": "#%% md\n"
    }
   },
   "source": [
    "## d) Check the table of the Geodataframe."
   ]
  },
  {
   "cell_type": "code",
   "execution_count": 60,
   "metadata": {
    "pycharm": {
     "name": "#%%\n"
    }
   },
   "outputs": [
    {
     "data": {
      "text/plain": "  IDTRAM  TVLDIA  TVLVES  TVLNIT  TVLDEN  TFLDIA  TFLVES  TFLNIT  TFLDEN  \\\n0      1      69      69      64      72       0       0       0       0   \n1      2      63      63      56      65       0       0       0       0   \n2      3      63      63      56      65       0       0       0       0   \n3      4      58      58      51      60       0       0       0       0   \n4      5      67      67      62      70       0       0       0       0   \n\n   TALDIA  ...  TOTDIA  TOTVES  TOTNIT  TOTDEN  POBTOT  POBINT  POBEXT  \\\n0       0  ...      69      69      64      72     419       0     419   \n1       0  ...      63      63      56      65     225       0     225   \n2       0  ...      63      63      56      65      76       0      76   \n3       0  ...      58      58      51      60     161       0     161   \n4       0  ...      67      67      62      70     243       0     243   \n\n   IDAGLO  CODI_INE                                           geometry  \n0    BCN1     08019  LINESTRING (431811.319 4586053.808, 431815.939...  \n1    BCN1     08019  LINESTRING (431945.629 4586034.777, 431909.599...  \n2    BCN1     08019  LINESTRING (431856.848 4585949.038, 431921.499...  \n3    BCN1     08019  LINESTRING (431649.598 4585971.319, 431664.329...  \n4    BCN1     08019  LINESTRING (431437.549 4586107.351, 431451.810...  \n\n[5 rows x 31 columns]",
      "text/html": "<div>\n<style scoped>\n    .dataframe tbody tr th:only-of-type {\n        vertical-align: middle;\n    }\n\n    .dataframe tbody tr th {\n        vertical-align: top;\n    }\n\n    .dataframe thead th {\n        text-align: right;\n    }\n</style>\n<table border=\"1\" class=\"dataframe\">\n  <thead>\n    <tr style=\"text-align: right;\">\n      <th></th>\n      <th>IDTRAM</th>\n      <th>TVLDIA</th>\n      <th>TVLVES</th>\n      <th>TVLNIT</th>\n      <th>TVLDEN</th>\n      <th>TFLDIA</th>\n      <th>TFLVES</th>\n      <th>TFLNIT</th>\n      <th>TFLDEN</th>\n      <th>TALDIA</th>\n      <th>...</th>\n      <th>TOTDIA</th>\n      <th>TOTVES</th>\n      <th>TOTNIT</th>\n      <th>TOTDEN</th>\n      <th>POBTOT</th>\n      <th>POBINT</th>\n      <th>POBEXT</th>\n      <th>IDAGLO</th>\n      <th>CODI_INE</th>\n      <th>geometry</th>\n    </tr>\n  </thead>\n  <tbody>\n    <tr>\n      <th>0</th>\n      <td>1</td>\n      <td>69</td>\n      <td>69</td>\n      <td>64</td>\n      <td>72</td>\n      <td>0</td>\n      <td>0</td>\n      <td>0</td>\n      <td>0</td>\n      <td>0</td>\n      <td>...</td>\n      <td>69</td>\n      <td>69</td>\n      <td>64</td>\n      <td>72</td>\n      <td>419</td>\n      <td>0</td>\n      <td>419</td>\n      <td>BCN1</td>\n      <td>08019</td>\n      <td>LINESTRING (431811.319 4586053.808, 431815.939...</td>\n    </tr>\n    <tr>\n      <th>1</th>\n      <td>2</td>\n      <td>63</td>\n      <td>63</td>\n      <td>56</td>\n      <td>65</td>\n      <td>0</td>\n      <td>0</td>\n      <td>0</td>\n      <td>0</td>\n      <td>0</td>\n      <td>...</td>\n      <td>63</td>\n      <td>63</td>\n      <td>56</td>\n      <td>65</td>\n      <td>225</td>\n      <td>0</td>\n      <td>225</td>\n      <td>BCN1</td>\n      <td>08019</td>\n      <td>LINESTRING (431945.629 4586034.777, 431909.599...</td>\n    </tr>\n    <tr>\n      <th>2</th>\n      <td>3</td>\n      <td>63</td>\n      <td>63</td>\n      <td>56</td>\n      <td>65</td>\n      <td>0</td>\n      <td>0</td>\n      <td>0</td>\n      <td>0</td>\n      <td>0</td>\n      <td>...</td>\n      <td>63</td>\n      <td>63</td>\n      <td>56</td>\n      <td>65</td>\n      <td>76</td>\n      <td>0</td>\n      <td>76</td>\n      <td>BCN1</td>\n      <td>08019</td>\n      <td>LINESTRING (431856.848 4585949.038, 431921.499...</td>\n    </tr>\n    <tr>\n      <th>3</th>\n      <td>4</td>\n      <td>58</td>\n      <td>58</td>\n      <td>51</td>\n      <td>60</td>\n      <td>0</td>\n      <td>0</td>\n      <td>0</td>\n      <td>0</td>\n      <td>0</td>\n      <td>...</td>\n      <td>58</td>\n      <td>58</td>\n      <td>51</td>\n      <td>60</td>\n      <td>161</td>\n      <td>0</td>\n      <td>161</td>\n      <td>BCN1</td>\n      <td>08019</td>\n      <td>LINESTRING (431649.598 4585971.319, 431664.329...</td>\n    </tr>\n    <tr>\n      <th>4</th>\n      <td>5</td>\n      <td>67</td>\n      <td>67</td>\n      <td>62</td>\n      <td>70</td>\n      <td>0</td>\n      <td>0</td>\n      <td>0</td>\n      <td>0</td>\n      <td>0</td>\n      <td>...</td>\n      <td>67</td>\n      <td>67</td>\n      <td>62</td>\n      <td>70</td>\n      <td>243</td>\n      <td>0</td>\n      <td>243</td>\n      <td>BCN1</td>\n      <td>08019</td>\n      <td>LINESTRING (431437.549 4586107.351, 431451.810...</td>\n    </tr>\n  </tbody>\n</table>\n<p>5 rows × 31 columns</p>\n</div>"
     },
     "execution_count": 60,
     "metadata": {},
     "output_type": "execute_result"
    }
   ],
   "source": [
    "Noise.head()"
   ]
  },
  {
   "cell_type": "markdown",
   "metadata": {
    "pycharm": {
     "name": "#%% md\n"
    }
   },
   "source": [
    "## e) Check the number of rows of the dataset \"Noise\"."
   ]
  },
  {
   "cell_type": "code",
   "execution_count": 48,
   "metadata": {
    "pycharm": {
     "name": "#%%\n"
    }
   },
   "outputs": [
    {
     "data": {
      "text/plain": "16742"
     },
     "execution_count": 48,
     "metadata": {},
     "output_type": "execute_result"
    }
   ],
   "source": [
    "Noise['IDTRAM'].count()"
   ]
  },
  {
   "cell_type": "markdown",
   "metadata": {},
   "source": [
    "## f) Check the data type."
   ]
  },
  {
   "cell_type": "code",
   "execution_count": 14,
   "metadata": {
    "pycharm": {
     "name": "#%%\n"
    }
   },
   "outputs": [
    {
     "data": {
      "text/plain": [
       "geopandas.geodataframe.GeoDataFrame"
      ]
     },
     "execution_count": 14,
     "metadata": {},
     "output_type": "execute_result"
    }
   ],
   "source": [
    "type(Noise)"
   ]
  },
  {
   "cell_type": "markdown",
   "metadata": {
    "pycharm": {
     "name": "#%% md\n"
    }
   },
   "source": [
    "## g) Check the Coordinate Reference system (CRS)."
   ]
  },
  {
   "cell_type": "code",
   "execution_count": 15,
   "metadata": {
    "pycharm": {
     "name": "#%%\n"
    }
   },
   "outputs": [
    {
     "data": {
      "text/plain": [
       "<Projected CRS: EPSG:25831>\n",
       "Name: ETRS89 / UTM zone 31N\n",
       "Axis Info [cartesian]:\n",
       "- E[east]: Easting (metre)\n",
       "- N[north]: Northing (metre)\n",
       "Area of Use:\n",
       "- name: Europe - 0°E to 6°E and ETRS89 by country\n",
       "- bounds: (0.0, 37.0, 6.01, 82.41)\n",
       "Coordinate Operation:\n",
       "- name: UTM zone 31N\n",
       "- method: Transverse Mercator\n",
       "Datum: European Terrestrial Reference System 1989\n",
       "- Ellipsoid: GRS 1980\n",
       "- Prime Meridian: Greenwich"
      ]
     },
     "execution_count": 15,
     "metadata": {},
     "output_type": "execute_result"
    }
   ],
   "source": [
    "Noise.crs"
   ]
  },
  {
   "cell_type": "markdown",
   "metadata": {
    "pycharm": {
     "name": "#%% md\n"
    }
   },
   "source": [
    "## h) Check the geometry field format."
   ]
  },
  {
   "cell_type": "code",
   "execution_count": 46,
   "metadata": {
    "pycharm": {
     "name": "#%%\n"
    }
   },
   "outputs": [
    {
     "data": {
      "text/plain": "<geopandas.array.GeometryDtype at 0x1fd9dd6c5e0>"
     },
     "execution_count": 46,
     "metadata": {},
     "output_type": "execute_result"
    }
   ],
   "source": [
    "Noise['geometry'].dtype"
   ]
  },
  {
   "cell_type": "markdown",
   "metadata": {
    "pycharm": {
     "name": "#%% md\n"
    }
   },
   "source": [
    "## i) Describing the data variables of the dataset \"Noise\""
   ]
  },
  {
   "cell_type": "code",
   "execution_count": 57,
   "metadata": {
    "pycharm": {
     "name": "#%%\n"
    }
   },
   "outputs": [
    {
     "data": {
      "text/plain": "count    16742.0\nmean         0.0\nstd          0.0\nmin          0.0\n25%          0.0\n50%          0.0\n75%          0.0\nmax          0.0\nName: OCLDIA, dtype: float64"
     },
     "execution_count": 57,
     "metadata": {},
     "output_type": "execute_result"
    }
   ],
   "source": [
    "Noise.describe()"
   ]
  },
  {
   "cell_type": "markdown",
   "metadata": {
    "pycharm": {
     "name": "#%% md\n"
    }
   },
   "source": []
  },
  {
   "cell_type": "code",
   "execution_count": 50,
   "metadata": {
    "pycharm": {
     "name": "#%%\n"
    }
   },
   "outputs": [
    {
     "data": {
      "text/plain": "58.84541870744236"
     },
     "execution_count": 50,
     "metadata": {},
     "output_type": "execute_result"
    }
   ],
   "source": [
    "Noise[\"TVLDIA\"].mean()"
   ]
  },
  {
   "cell_type": "markdown",
   "metadata": {},
   "source": [
    "## j) Calculate the number of non-null unique INLDIA entries."
   ]
  },
  {
   "cell_type": "code",
   "execution_count": 54,
   "metadata": {
    "pycharm": {
     "name": "#%%\n"
    }
   },
   "outputs": [
    {
     "data": {
      "text/plain": "22"
     },
     "execution_count": 54,
     "metadata": {},
     "output_type": "execute_result"
    }
   ],
   "source": [
    "Noise[\"INLDIA\"].nunique()"
   ]
  },
  {
   "cell_type": "markdown",
   "metadata": {},
   "source": [
    "## k) Calculate the number of non-null unique TVLVES entries and describe the variable."
   ]
  },
  {
   "cell_type": "code",
   "execution_count": 34,
   "metadata": {
    "pycharm": {
     "name": "#%%\n"
    }
   },
   "outputs": [
    {
     "data": {
      "text/plain": [
       "58"
      ]
     },
     "execution_count": 34,
     "metadata": {},
     "output_type": "execute_result"
    }
   ],
   "source": [
    "Noise[\"TVLVES\"].nunique()"
   ]
  },
  {
   "cell_type": "code",
   "execution_count": 56,
   "metadata": {
    "pycharm": {
     "name": "#%%\n"
    }
   },
   "outputs": [
    {
     "data": {
      "text/plain": "count    16742.000000\nmean        57.440748\nstd         16.409335\nmin          0.000000\n25%         57.000000\n50%         62.000000\n75%         66.000000\nmax         77.000000\nName: TVLVES, dtype: float64"
     },
     "execution_count": 56,
     "metadata": {},
     "output_type": "execute_result"
    }
   ],
   "source": [
    "Noise[\"TVLVES\"].describe()"
   ]
  },
  {
   "cell_type": "markdown",
   "source": [
    "## l) Check the presence of Null values in the dataset \"Noise\"."
   ],
   "metadata": {
    "collapsed": false
   }
  },
  {
   "cell_type": "code",
   "execution_count": 27,
   "metadata": {
    "pycharm": {
     "name": "#%%\n"
    }
   },
   "outputs": [
    {
     "data": {
      "text/plain": [
       "IDTRAM      False\n",
       "TVLDIA      False\n",
       "TVLVES      False\n",
       "TVLNIT      False\n",
       "TVLDEN      False\n",
       "TFLDIA      False\n",
       "TFLVES      False\n",
       "TFLNIT      False\n",
       "TFLDEN      False\n",
       "TALDIA      False\n",
       "TALVES      False\n",
       "TALNIT      False\n",
       "TALDEN      False\n",
       "INLDIA      False\n",
       "INLVES      False\n",
       "INLNIT      False\n",
       "INLDEN      False\n",
       "OCLDIA      False\n",
       "OCLVES      False\n",
       "OCLNIT      False\n",
       "OCLDEN      False\n",
       "TOTDIA      False\n",
       "TOTVES      False\n",
       "TOTNIT      False\n",
       "TOTDEN      False\n",
       "POBTOT      False\n",
       "POBINT      False\n",
       "POBEXT      False\n",
       "IDAGLO      False\n",
       "CODI_INE    False\n",
       "geometry    False\n",
       "dtype: bool"
      ]
     },
     "execution_count": 27,
     "metadata": {},
     "output_type": "execute_result"
    }
   ],
   "source": [
    "Noise.isnull().any()"
   ]
  },
  {
   "cell_type": "markdown",
   "source": [
    "## m) Count the number of Null values in the dataset \"Noise\"."
   ],
   "metadata": {
    "collapsed": false
   }
  },
  {
   "cell_type": "code",
   "execution_count": 28,
   "metadata": {
    "pycharm": {
     "name": "#%%\n"
    }
   },
   "outputs": [
    {
     "data": {
      "text/plain": [
       "IDTRAM      0\n",
       "TVLDIA      0\n",
       "TVLVES      0\n",
       "TVLNIT      0\n",
       "TVLDEN      0\n",
       "TFLDIA      0\n",
       "TFLVES      0\n",
       "TFLNIT      0\n",
       "TFLDEN      0\n",
       "TALDIA      0\n",
       "TALVES      0\n",
       "TALNIT      0\n",
       "TALDEN      0\n",
       "INLDIA      0\n",
       "INLVES      0\n",
       "INLNIT      0\n",
       "INLDEN      0\n",
       "OCLDIA      0\n",
       "OCLVES      0\n",
       "OCLNIT      0\n",
       "OCLDEN      0\n",
       "TOTDIA      0\n",
       "TOTVES      0\n",
       "TOTNIT      0\n",
       "TOTDEN      0\n",
       "POBTOT      0\n",
       "POBINT      0\n",
       "POBEXT      0\n",
       "IDAGLO      0\n",
       "CODI_INE    0\n",
       "geometry    0\n",
       "dtype: int64"
      ]
     },
     "execution_count": 28,
     "metadata": {},
     "output_type": "execute_result"
    }
   ],
   "source": [
    "count_nan = len(Noise) - Noise.count()\n",
    "count_nan"
   ]
  },
  {
   "cell_type": "markdown",
   "source": [
    "## n) Drop the Null Values in the columns 'IDTRAM' and 'TVLVES' and build a new geodataframe called \"Noise2\"."
   ],
   "metadata": {
    "collapsed": false
   }
  },
  {
   "cell_type": "code",
   "execution_count": 29,
   "metadata": {
    "pycharm": {
     "name": "#%%\n"
    }
   },
   "outputs": [],
   "source": [
    "Noise2=Noise.dropna(subset=['IDTRAM','TVLVES'])"
   ]
  },
  {
   "cell_type": "markdown",
   "source": [
    "## o) Check the number of rows of the dataset \"Noise2\"."
   ],
   "metadata": {
    "collapsed": false
   }
  },
  {
   "cell_type": "code",
   "execution_count": 30,
   "metadata": {
    "pycharm": {
     "name": "#%%\n"
    }
   },
   "outputs": [
    {
     "data": {
      "text/plain": [
       "16742"
      ]
     },
     "execution_count": 30,
     "metadata": {},
     "output_type": "execute_result"
    }
   ],
   "source": [
    "Noise2['IDAGLO'].count()"
   ]
  },
  {
   "cell_type": "markdown",
   "source": [
    "## p) Number of non-null unique IDTRAM entries of the dataset \"Noise2\"."
   ],
   "metadata": {
    "collapsed": false
   }
  },
  {
   "cell_type": "code",
   "execution_count": 35,
   "metadata": {
    "pycharm": {
     "name": "#%%\n"
    }
   },
   "outputs": [
    {
     "data": {
      "text/plain": [
       "16742"
      ]
     },
     "execution_count": 35,
     "metadata": {},
     "output_type": "execute_result"
    }
   ],
   "source": [
    "Noise2['IDTRAM'].nunique()"
   ]
  },
  {
   "cell_type": "code",
   "execution_count": 36,
   "metadata": {
    "pycharm": {
     "name": "#%%\n"
    }
   },
   "outputs": [
    {
     "data": {
      "text/plain": [
       "1"
      ]
     },
     "execution_count": 36,
     "metadata": {},
     "output_type": "execute_result"
    }
   ],
   "source": [
    "Noise2['IDAGLO'].nunique()"
   ]
  },
  {
   "cell_type": "code",
   "execution_count": 37,
   "metadata": {
    "pycharm": {
     "name": "#%%\n"
    }
   },
   "outputs": [
    {
     "data": {
      "text/html": [
       "<div>\n",
       "<style scoped>\n",
       "    .dataframe tbody tr th:only-of-type {\n",
       "        vertical-align: middle;\n",
       "    }\n",
       "\n",
       "    .dataframe tbody tr th {\n",
       "        vertical-align: top;\n",
       "    }\n",
       "\n",
       "    .dataframe thead th {\n",
       "        text-align: right;\n",
       "    }\n",
       "</style>\n",
       "<table border=\"1\" class=\"dataframe\">\n",
       "  <thead>\n",
       "    <tr style=\"text-align: right;\">\n",
       "      <th></th>\n",
       "      <th>TVLDIA</th>\n",
       "      <th>TVLVES</th>\n",
       "      <th>TVLNIT</th>\n",
       "      <th>TVLDEN</th>\n",
       "      <th>TFLDIA</th>\n",
       "      <th>TFLVES</th>\n",
       "      <th>TFLNIT</th>\n",
       "      <th>TFLDEN</th>\n",
       "      <th>TALDIA</th>\n",
       "      <th>TALVES</th>\n",
       "      <th>...</th>\n",
       "      <th>OCLVES</th>\n",
       "      <th>OCLNIT</th>\n",
       "      <th>OCLDEN</th>\n",
       "      <th>TOTDIA</th>\n",
       "      <th>TOTVES</th>\n",
       "      <th>TOTNIT</th>\n",
       "      <th>TOTDEN</th>\n",
       "      <th>POBTOT</th>\n",
       "      <th>POBINT</th>\n",
       "      <th>POBEXT</th>\n",
       "    </tr>\n",
       "  </thead>\n",
       "  <tbody>\n",
       "    <tr>\n",
       "      <th>count</th>\n",
       "      <td>16742.000000</td>\n",
       "      <td>16742.000000</td>\n",
       "      <td>16742.000000</td>\n",
       "      <td>16742.000000</td>\n",
       "      <td>16742.000000</td>\n",
       "      <td>16742.000000</td>\n",
       "      <td>16742.000000</td>\n",
       "      <td>16742.000000</td>\n",
       "      <td>16742.0</td>\n",
       "      <td>16742.0</td>\n",
       "      <td>...</td>\n",
       "      <td>16742.000000</td>\n",
       "      <td>16742.000000</td>\n",
       "      <td>16742.000000</td>\n",
       "      <td>16742.000000</td>\n",
       "      <td>16742.000000</td>\n",
       "      <td>16742.000000</td>\n",
       "      <td>16742.000000</td>\n",
       "      <td>16742.000000</td>\n",
       "      <td>16742.000000</td>\n",
       "      <td>16742.000000</td>\n",
       "    </tr>\n",
       "    <tr>\n",
       "      <th>mean</th>\n",
       "      <td>58.845419</td>\n",
       "      <td>57.440748</td>\n",
       "      <td>51.615697</td>\n",
       "      <td>60.265022</td>\n",
       "      <td>2.384303</td>\n",
       "      <td>2.313642</td>\n",
       "      <td>2.075081</td>\n",
       "      <td>2.484649</td>\n",
       "      <td>0.0</td>\n",
       "      <td>0.0</td>\n",
       "      <td>...</td>\n",
       "      <td>0.653267</td>\n",
       "      <td>2.375463</td>\n",
       "      <td>2.643472</td>\n",
       "      <td>62.118863</td>\n",
       "      <td>60.575977</td>\n",
       "      <td>54.569824</td>\n",
       "      <td>63.717955</td>\n",
       "      <td>98.187373</td>\n",
       "      <td>11.534882</td>\n",
       "      <td>86.652491</td>\n",
       "    </tr>\n",
       "    <tr>\n",
       "      <th>std</th>\n",
       "      <td>16.799869</td>\n",
       "      <td>16.409335</td>\n",
       "      <td>15.294187</td>\n",
       "      <td>17.178666</td>\n",
       "      <td>10.681613</td>\n",
       "      <td>10.357224</td>\n",
       "      <td>9.321741</td>\n",
       "      <td>11.113437</td>\n",
       "      <td>0.0</td>\n",
       "      <td>0.0</td>\n",
       "      <td>...</td>\n",
       "      <td>6.182074</td>\n",
       "      <td>11.508320</td>\n",
       "      <td>12.672604</td>\n",
       "      <td>7.518329</td>\n",
       "      <td>7.465553</td>\n",
       "      <td>8.027668</td>\n",
       "      <td>7.639956</td>\n",
       "      <td>133.267770</td>\n",
       "      <td>53.307138</td>\n",
       "      <td>130.068519</td>\n",
       "    </tr>\n",
       "    <tr>\n",
       "      <th>min</th>\n",
       "      <td>0.000000</td>\n",
       "      <td>0.000000</td>\n",
       "      <td>0.000000</td>\n",
       "      <td>0.000000</td>\n",
       "      <td>0.000000</td>\n",
       "      <td>0.000000</td>\n",
       "      <td>0.000000</td>\n",
       "      <td>0.000000</td>\n",
       "      <td>0.0</td>\n",
       "      <td>0.0</td>\n",
       "      <td>...</td>\n",
       "      <td>0.000000</td>\n",
       "      <td>0.000000</td>\n",
       "      <td>0.000000</td>\n",
       "      <td>0.000000</td>\n",
       "      <td>0.000000</td>\n",
       "      <td>0.000000</td>\n",
       "      <td>0.000000</td>\n",
       "      <td>0.000000</td>\n",
       "      <td>0.000000</td>\n",
       "      <td>0.000000</td>\n",
       "    </tr>\n",
       "    <tr>\n",
       "      <th>25%</th>\n",
       "      <td>58.000000</td>\n",
       "      <td>57.000000</td>\n",
       "      <td>50.000000</td>\n",
       "      <td>59.000000</td>\n",
       "      <td>0.000000</td>\n",
       "      <td>0.000000</td>\n",
       "      <td>0.000000</td>\n",
       "      <td>0.000000</td>\n",
       "      <td>0.0</td>\n",
       "      <td>0.0</td>\n",
       "      <td>...</td>\n",
       "      <td>0.000000</td>\n",
       "      <td>0.000000</td>\n",
       "      <td>0.000000</td>\n",
       "      <td>58.000000</td>\n",
       "      <td>57.000000</td>\n",
       "      <td>50.000000</td>\n",
       "      <td>60.000000</td>\n",
       "      <td>7.000000</td>\n",
       "      <td>0.000000</td>\n",
       "      <td>0.000000</td>\n",
       "    </tr>\n",
       "    <tr>\n",
       "      <th>50%</th>\n",
       "      <td>63.000000</td>\n",
       "      <td>62.000000</td>\n",
       "      <td>55.000000</td>\n",
       "      <td>64.000000</td>\n",
       "      <td>0.000000</td>\n",
       "      <td>0.000000</td>\n",
       "      <td>0.000000</td>\n",
       "      <td>0.000000</td>\n",
       "      <td>0.0</td>\n",
       "      <td>0.0</td>\n",
       "      <td>...</td>\n",
       "      <td>0.000000</td>\n",
       "      <td>0.000000</td>\n",
       "      <td>0.000000</td>\n",
       "      <td>63.000000</td>\n",
       "      <td>62.000000</td>\n",
       "      <td>56.000000</td>\n",
       "      <td>65.000000</td>\n",
       "      <td>53.000000</td>\n",
       "      <td>0.000000</td>\n",
       "      <td>38.000000</td>\n",
       "    </tr>\n",
       "    <tr>\n",
       "      <th>75%</th>\n",
       "      <td>67.000000</td>\n",
       "      <td>66.000000</td>\n",
       "      <td>60.000000</td>\n",
       "      <td>69.000000</td>\n",
       "      <td>0.000000</td>\n",
       "      <td>0.000000</td>\n",
       "      <td>0.000000</td>\n",
       "      <td>0.000000</td>\n",
       "      <td>0.0</td>\n",
       "      <td>0.0</td>\n",
       "      <td>...</td>\n",
       "      <td>0.000000</td>\n",
       "      <td>0.000000</td>\n",
       "      <td>0.000000</td>\n",
       "      <td>67.000000</td>\n",
       "      <td>66.000000</td>\n",
       "      <td>60.000000</td>\n",
       "      <td>69.000000</td>\n",
       "      <td>137.750000</td>\n",
       "      <td>0.000000</td>\n",
       "      <td>119.000000</td>\n",
       "    </tr>\n",
       "    <tr>\n",
       "      <th>max</th>\n",
       "      <td>79.000000</td>\n",
       "      <td>77.000000</td>\n",
       "      <td>73.000000</td>\n",
       "      <td>81.000000</td>\n",
       "      <td>67.000000</td>\n",
       "      <td>64.000000</td>\n",
       "      <td>58.000000</td>\n",
       "      <td>67.000000</td>\n",
       "      <td>0.0</td>\n",
       "      <td>0.0</td>\n",
       "      <td>...</td>\n",
       "      <td>66.000000</td>\n",
       "      <td>68.000000</td>\n",
       "      <td>74.000000</td>\n",
       "      <td>79.000000</td>\n",
       "      <td>77.000000</td>\n",
       "      <td>73.000000</td>\n",
       "      <td>81.000000</td>\n",
       "      <td>2776.000000</td>\n",
       "      <td>1773.000000</td>\n",
       "      <td>2776.000000</td>\n",
       "    </tr>\n",
       "  </tbody>\n",
       "</table>\n",
       "<p>8 rows × 27 columns</p>\n",
       "</div>"
      ],
      "text/plain": [
       "             TVLDIA        TVLVES        TVLNIT        TVLDEN        TFLDIA  \\\n",
       "count  16742.000000  16742.000000  16742.000000  16742.000000  16742.000000   \n",
       "mean      58.845419     57.440748     51.615697     60.265022      2.384303   \n",
       "std       16.799869     16.409335     15.294187     17.178666     10.681613   \n",
       "min        0.000000      0.000000      0.000000      0.000000      0.000000   \n",
       "25%       58.000000     57.000000     50.000000     59.000000      0.000000   \n",
       "50%       63.000000     62.000000     55.000000     64.000000      0.000000   \n",
       "75%       67.000000     66.000000     60.000000     69.000000      0.000000   \n",
       "max       79.000000     77.000000     73.000000     81.000000     67.000000   \n",
       "\n",
       "             TFLVES        TFLNIT        TFLDEN   TALDIA   TALVES  ...  \\\n",
       "count  16742.000000  16742.000000  16742.000000  16742.0  16742.0  ...   \n",
       "mean       2.313642      2.075081      2.484649      0.0      0.0  ...   \n",
       "std       10.357224      9.321741     11.113437      0.0      0.0  ...   \n",
       "min        0.000000      0.000000      0.000000      0.0      0.0  ...   \n",
       "25%        0.000000      0.000000      0.000000      0.0      0.0  ...   \n",
       "50%        0.000000      0.000000      0.000000      0.0      0.0  ...   \n",
       "75%        0.000000      0.000000      0.000000      0.0      0.0  ...   \n",
       "max       64.000000     58.000000     67.000000      0.0      0.0  ...   \n",
       "\n",
       "             OCLVES        OCLNIT        OCLDEN        TOTDIA        TOTVES  \\\n",
       "count  16742.000000  16742.000000  16742.000000  16742.000000  16742.000000   \n",
       "mean       0.653267      2.375463      2.643472     62.118863     60.575977   \n",
       "std        6.182074     11.508320     12.672604      7.518329      7.465553   \n",
       "min        0.000000      0.000000      0.000000      0.000000      0.000000   \n",
       "25%        0.000000      0.000000      0.000000     58.000000     57.000000   \n",
       "50%        0.000000      0.000000      0.000000     63.000000     62.000000   \n",
       "75%        0.000000      0.000000      0.000000     67.000000     66.000000   \n",
       "max       66.000000     68.000000     74.000000     79.000000     77.000000   \n",
       "\n",
       "             TOTNIT        TOTDEN        POBTOT        POBINT        POBEXT  \n",
       "count  16742.000000  16742.000000  16742.000000  16742.000000  16742.000000  \n",
       "mean      54.569824     63.717955     98.187373     11.534882     86.652491  \n",
       "std        8.027668      7.639956    133.267770     53.307138    130.068519  \n",
       "min        0.000000      0.000000      0.000000      0.000000      0.000000  \n",
       "25%       50.000000     60.000000      7.000000      0.000000      0.000000  \n",
       "50%       56.000000     65.000000     53.000000      0.000000     38.000000  \n",
       "75%       60.000000     69.000000    137.750000      0.000000    119.000000  \n",
       "max       73.000000     81.000000   2776.000000   1773.000000   2776.000000  \n",
       "\n",
       "[8 rows x 27 columns]"
      ]
     },
     "execution_count": 37,
     "metadata": {},
     "output_type": "execute_result"
    }
   ],
   "source": [
    "Noise2.describe()"
   ]
  },
  {
   "cell_type": "code",
   "execution_count": 38,
   "metadata": {
    "pycharm": {
     "name": "#%%\n"
    }
   },
   "outputs": [
    {
     "data": {
      "text/plain": [
       "IDTRAM      False\n",
       "TVLDIA      False\n",
       "TVLVES      False\n",
       "TVLNIT      False\n",
       "TVLDEN      False\n",
       "TFLDIA      False\n",
       "TFLVES      False\n",
       "TFLNIT      False\n",
       "TFLDEN      False\n",
       "TALDIA      False\n",
       "TALVES      False\n",
       "TALNIT      False\n",
       "TALDEN      False\n",
       "INLDIA      False\n",
       "INLVES      False\n",
       "INLNIT      False\n",
       "INLDEN      False\n",
       "OCLDIA      False\n",
       "OCLVES      False\n",
       "OCLNIT      False\n",
       "OCLDEN      False\n",
       "TOTDIA      False\n",
       "TOTVES      False\n",
       "TOTNIT      False\n",
       "TOTDEN      False\n",
       "POBTOT      False\n",
       "POBINT      False\n",
       "POBEXT      False\n",
       "IDAGLO      False\n",
       "CODI_INE    False\n",
       "geometry    False\n",
       "dtype: bool"
      ]
     },
     "execution_count": 38,
     "metadata": {},
     "output_type": "execute_result"
    }
   ],
   "source": [
    "Noise2.isnull().any()"
   ]
  },
  {
   "cell_type": "code",
   "execution_count": 39,
   "metadata": {
    "pycharm": {
     "name": "#%%\n"
    }
   },
   "outputs": [
    {
     "data": {
      "text/plain": [
       "IDTRAM      0\n",
       "TVLDIA      0\n",
       "TVLVES      0\n",
       "TVLNIT      0\n",
       "TVLDEN      0\n",
       "TFLDIA      0\n",
       "TFLVES      0\n",
       "TFLNIT      0\n",
       "TFLDEN      0\n",
       "TALDIA      0\n",
       "TALVES      0\n",
       "TALNIT      0\n",
       "TALDEN      0\n",
       "INLDIA      0\n",
       "INLVES      0\n",
       "INLNIT      0\n",
       "INLDEN      0\n",
       "OCLDIA      0\n",
       "OCLVES      0\n",
       "OCLNIT      0\n",
       "OCLDEN      0\n",
       "TOTDIA      0\n",
       "TOTVES      0\n",
       "TOTNIT      0\n",
       "TOTDEN      0\n",
       "POBTOT      0\n",
       "POBINT      0\n",
       "POBEXT      0\n",
       "IDAGLO      0\n",
       "CODI_INE    0\n",
       "geometry    0\n",
       "dtype: int64"
      ]
     },
     "execution_count": 39,
     "metadata": {},
     "output_type": "execute_result"
    }
   ],
   "source": [
    "count_nan2 = len(Noise2) - Noise2.count()\n",
    "count_nan2"
   ]
  },
  {
   "cell_type": "code",
   "execution_count": 40,
   "metadata": {
    "pycharm": {
     "name": "#%%\n"
    }
   },
   "outputs": [],
   "source": [
    "%matplotlib inline\n",
    "import matplotlib.pyplot as plt"
   ]
  },
  {
   "cell_type": "code",
   "execution_count": 41,
   "metadata": {
    "pycharm": {
     "name": "#%%\n"
    }
   },
   "outputs": [
    {
     "data": {
      "text/html": [
       "<div>\n",
       "<style scoped>\n",
       "    .dataframe tbody tr th:only-of-type {\n",
       "        vertical-align: middle;\n",
       "    }\n",
       "\n",
       "    .dataframe tbody tr th {\n",
       "        vertical-align: top;\n",
       "    }\n",
       "\n",
       "    .dataframe thead th {\n",
       "        text-align: right;\n",
       "    }\n",
       "</style>\n",
       "<table border=\"1\" class=\"dataframe\">\n",
       "  <thead>\n",
       "    <tr style=\"text-align: right;\">\n",
       "      <th></th>\n",
       "      <th>IDTRAM</th>\n",
       "      <th>TVLDIA</th>\n",
       "      <th>TVLVES</th>\n",
       "      <th>TVLNIT</th>\n",
       "      <th>TVLDEN</th>\n",
       "      <th>TFLDIA</th>\n",
       "      <th>TFLVES</th>\n",
       "      <th>TFLNIT</th>\n",
       "      <th>TFLDEN</th>\n",
       "      <th>TALDIA</th>\n",
       "      <th>...</th>\n",
       "      <th>TOTDIA</th>\n",
       "      <th>TOTVES</th>\n",
       "      <th>TOTNIT</th>\n",
       "      <th>TOTDEN</th>\n",
       "      <th>POBTOT</th>\n",
       "      <th>POBINT</th>\n",
       "      <th>POBEXT</th>\n",
       "      <th>IDAGLO</th>\n",
       "      <th>CODI_INE</th>\n",
       "      <th>geometry</th>\n",
       "    </tr>\n",
       "  </thead>\n",
       "  <tbody>\n",
       "    <tr>\n",
       "      <th>0</th>\n",
       "      <td>1</td>\n",
       "      <td>69</td>\n",
       "      <td>69</td>\n",
       "      <td>64</td>\n",
       "      <td>72</td>\n",
       "      <td>0</td>\n",
       "      <td>0</td>\n",
       "      <td>0</td>\n",
       "      <td>0</td>\n",
       "      <td>0</td>\n",
       "      <td>...</td>\n",
       "      <td>69</td>\n",
       "      <td>69</td>\n",
       "      <td>64</td>\n",
       "      <td>72</td>\n",
       "      <td>419</td>\n",
       "      <td>0</td>\n",
       "      <td>419</td>\n",
       "      <td>BCN1</td>\n",
       "      <td>08019</td>\n",
       "      <td>LINESTRING (431811.319 4586053.808, 431815.939...</td>\n",
       "    </tr>\n",
       "    <tr>\n",
       "      <th>1</th>\n",
       "      <td>2</td>\n",
       "      <td>63</td>\n",
       "      <td>63</td>\n",
       "      <td>56</td>\n",
       "      <td>65</td>\n",
       "      <td>0</td>\n",
       "      <td>0</td>\n",
       "      <td>0</td>\n",
       "      <td>0</td>\n",
       "      <td>0</td>\n",
       "      <td>...</td>\n",
       "      <td>63</td>\n",
       "      <td>63</td>\n",
       "      <td>56</td>\n",
       "      <td>65</td>\n",
       "      <td>225</td>\n",
       "      <td>0</td>\n",
       "      <td>225</td>\n",
       "      <td>BCN1</td>\n",
       "      <td>08019</td>\n",
       "      <td>LINESTRING (431945.629 4586034.777, 431909.599...</td>\n",
       "    </tr>\n",
       "    <tr>\n",
       "      <th>2</th>\n",
       "      <td>3</td>\n",
       "      <td>63</td>\n",
       "      <td>63</td>\n",
       "      <td>56</td>\n",
       "      <td>65</td>\n",
       "      <td>0</td>\n",
       "      <td>0</td>\n",
       "      <td>0</td>\n",
       "      <td>0</td>\n",
       "      <td>0</td>\n",
       "      <td>...</td>\n",
       "      <td>63</td>\n",
       "      <td>63</td>\n",
       "      <td>56</td>\n",
       "      <td>65</td>\n",
       "      <td>76</td>\n",
       "      <td>0</td>\n",
       "      <td>76</td>\n",
       "      <td>BCN1</td>\n",
       "      <td>08019</td>\n",
       "      <td>LINESTRING (431856.848 4585949.038, 431921.499...</td>\n",
       "    </tr>\n",
       "    <tr>\n",
       "      <th>3</th>\n",
       "      <td>4</td>\n",
       "      <td>58</td>\n",
       "      <td>58</td>\n",
       "      <td>51</td>\n",
       "      <td>60</td>\n",
       "      <td>0</td>\n",
       "      <td>0</td>\n",
       "      <td>0</td>\n",
       "      <td>0</td>\n",
       "      <td>0</td>\n",
       "      <td>...</td>\n",
       "      <td>58</td>\n",
       "      <td>58</td>\n",
       "      <td>51</td>\n",
       "      <td>60</td>\n",
       "      <td>161</td>\n",
       "      <td>0</td>\n",
       "      <td>161</td>\n",
       "      <td>BCN1</td>\n",
       "      <td>08019</td>\n",
       "      <td>LINESTRING (431649.598 4585971.319, 431664.329...</td>\n",
       "    </tr>\n",
       "    <tr>\n",
       "      <th>4</th>\n",
       "      <td>5</td>\n",
       "      <td>67</td>\n",
       "      <td>67</td>\n",
       "      <td>62</td>\n",
       "      <td>70</td>\n",
       "      <td>0</td>\n",
       "      <td>0</td>\n",
       "      <td>0</td>\n",
       "      <td>0</td>\n",
       "      <td>0</td>\n",
       "      <td>...</td>\n",
       "      <td>67</td>\n",
       "      <td>67</td>\n",
       "      <td>62</td>\n",
       "      <td>70</td>\n",
       "      <td>243</td>\n",
       "      <td>0</td>\n",
       "      <td>243</td>\n",
       "      <td>BCN1</td>\n",
       "      <td>08019</td>\n",
       "      <td>LINESTRING (431437.549 4586107.351, 431451.810...</td>\n",
       "    </tr>\n",
       "  </tbody>\n",
       "</table>\n",
       "<p>5 rows × 31 columns</p>\n",
       "</div>"
      ],
      "text/plain": [
       "  IDTRAM  TVLDIA  TVLVES  TVLNIT  TVLDEN  TFLDIA  TFLVES  TFLNIT  TFLDEN  \\\n",
       "0      1      69      69      64      72       0       0       0       0   \n",
       "1      2      63      63      56      65       0       0       0       0   \n",
       "2      3      63      63      56      65       0       0       0       0   \n",
       "3      4      58      58      51      60       0       0       0       0   \n",
       "4      5      67      67      62      70       0       0       0       0   \n",
       "\n",
       "   TALDIA  ...  TOTDIA  TOTVES  TOTNIT  TOTDEN  POBTOT  POBINT  POBEXT  \\\n",
       "0       0  ...      69      69      64      72     419       0     419   \n",
       "1       0  ...      63      63      56      65     225       0     225   \n",
       "2       0  ...      63      63      56      65      76       0      76   \n",
       "3       0  ...      58      58      51      60     161       0     161   \n",
       "4       0  ...      67      67      62      70     243       0     243   \n",
       "\n",
       "   IDAGLO  CODI_INE                                           geometry  \n",
       "0    BCN1     08019  LINESTRING (431811.319 4586053.808, 431815.939...  \n",
       "1    BCN1     08019  LINESTRING (431945.629 4586034.777, 431909.599...  \n",
       "2    BCN1     08019  LINESTRING (431856.848 4585949.038, 431921.499...  \n",
       "3    BCN1     08019  LINESTRING (431649.598 4585971.319, 431664.329...  \n",
       "4    BCN1     08019  LINESTRING (431437.549 4586107.351, 431451.810...  \n",
       "\n",
       "[5 rows x 31 columns]"
      ]
     },
     "execution_count": 41,
     "metadata": {},
     "output_type": "execute_result"
    }
   ],
   "source": [
    "Noise2.head()"
   ]
  },
  {
   "cell_type": "code",
   "execution_count": 42,
   "metadata": {
    "pycharm": {
     "name": "#%%\n"
    }
   },
   "outputs": [
    {
     "data": {
      "text/plain": [
       "Text(0.5, 0, 'Nivel de ruido producido por el tráfico viario: período tarde (de 21h a 23h).')"
      ]
     },
     "execution_count": 42,
     "metadata": {},
     "output_type": "execute_result"
    },
    {
     "data": {
      "image/png": "[encoded data removed]",
      "text/plain": [
       "<Figure size 1080x648 with 1 Axes>"
      ]
     },
     "metadata": {
      "needs_background": "light"
     },
     "output_type": "display_data"
    }
   ],
   "source": [
    "fig5, ax = plt.subplots(figsize=(15,9))\n",
    "fig5=Noise2['TVLVES'].plot(kind='hist', bins=150, color=['gray'])\n",
    "plt.xlabel('Nivel de ruido producido por el tráfico viario: período tarde (de 21h a 23h).')"
   ]
  },
  {
   "cell_type": "code",
   "execution_count": 44,
   "metadata": {
    "pycharm": {
     "name": "#%%\n"
    }
   },
   "outputs": [
    {
     "ename": "ValueError",
     "evalue": "index must be a MultiIndex to unstack, <class 'pandas.core.indexes.numeric.Int64Index'> was passed",
     "output_type": "error",
     "traceback": [
      "\u001B[1;31m---------------------------------------------------------------------------\u001B[0m",
      "\u001B[1;31mValueError\u001B[0m                                Traceback (most recent call last)",
      "Input \u001B[1;32mIn [44]\u001B[0m, in \u001B[0;36m<cell line: 2>\u001B[1;34m()\u001B[0m\n\u001B[0;32m      1\u001B[0m fig6, ax \u001B[38;5;241m=\u001B[39m plt\u001B[38;5;241m.\u001B[39msubplots(figsize\u001B[38;5;241m=\u001B[39m(\u001B[38;5;241m15\u001B[39m,\u001B[38;5;241m9\u001B[39m))\n\u001B[1;32m----> 2\u001B[0m fig6\u001B[38;5;241m=\u001B[39m\u001B[43mNoise2\u001B[49m\u001B[38;5;241;43m.\u001B[39;49m\u001B[43mgroupby\u001B[49m\u001B[43m(\u001B[49m\u001B[43m[\u001B[49m\u001B[38;5;124;43m'\u001B[39;49m\u001B[38;5;124;43mTVLDIA\u001B[39;49m\u001B[38;5;124;43m'\u001B[39;49m\u001B[43m]\u001B[49m\u001B[43m)\u001B[49m\u001B[38;5;241;43m.\u001B[39;49m\u001B[43mmean\u001B[49m\u001B[43m(\u001B[49m\u001B[43m)\u001B[49m\u001B[43m[\u001B[49m\u001B[38;5;124;43m'\u001B[39;49m\u001B[38;5;124;43mPOBEXT\u001B[39;49m\u001B[38;5;124;43m'\u001B[39;49m\u001B[43m]\u001B[49m\u001B[38;5;241;43m.\u001B[39;49m\u001B[43munstack\u001B[49m\u001B[43m(\u001B[49m\u001B[43m)\u001B[49m\u001B[38;5;241m.\u001B[39mplot(ax\u001B[38;5;241m=\u001B[39max)\n\u001B[0;32m      3\u001B[0m plt\u001B[38;5;241m.\u001B[39mtitle(\u001B[38;5;124m\"\u001B[39m\u001B[38;5;124mPersonas afectadas en facha exterior por ruido de trafico viario\u001B[39m\u001B[38;5;124m\"\u001B[39m)\n\u001B[0;32m      4\u001B[0m plt\u001B[38;5;241m.\u001B[39mylabel(\u001B[38;5;124m\"\u001B[39m\u001B[38;5;124mRuido trafico viario (dB)\u001B[39m\u001B[38;5;124m\"\u001B[39m)\n",
      "File \u001B[1;32m~\\anaconda3\\envs\\myenv\\lib\\site-packages\\pandas\\core\\series.py:4157\u001B[0m, in \u001B[0;36mSeries.unstack\u001B[1;34m(self, level, fill_value)\u001B[0m\n\u001B[0;32m   4114\u001B[0m \u001B[38;5;124;03m\"\"\"\u001B[39;00m\n\u001B[0;32m   4115\u001B[0m \u001B[38;5;124;03mUnstack, also known as pivot, Series with MultiIndex to produce DataFrame.\u001B[39;00m\n\u001B[0;32m   4116\u001B[0m \n\u001B[1;32m   (...)\u001B[0m\n\u001B[0;32m   4153\u001B[0m \u001B[38;5;124;03mb    2    4\u001B[39;00m\n\u001B[0;32m   4154\u001B[0m \u001B[38;5;124;03m\"\"\"\u001B[39;00m\n\u001B[0;32m   4155\u001B[0m \u001B[38;5;28;01mfrom\u001B[39;00m \u001B[38;5;21;01mpandas\u001B[39;00m\u001B[38;5;21;01m.\u001B[39;00m\u001B[38;5;21;01mcore\u001B[39;00m\u001B[38;5;21;01m.\u001B[39;00m\u001B[38;5;21;01mreshape\u001B[39;00m\u001B[38;5;21;01m.\u001B[39;00m\u001B[38;5;21;01mreshape\u001B[39;00m \u001B[38;5;28;01mimport\u001B[39;00m unstack\n\u001B[1;32m-> 4157\u001B[0m \u001B[38;5;28;01mreturn\u001B[39;00m \u001B[43munstack\u001B[49m\u001B[43m(\u001B[49m\u001B[38;5;28;43mself\u001B[39;49m\u001B[43m,\u001B[49m\u001B[43m \u001B[49m\u001B[43mlevel\u001B[49m\u001B[43m,\u001B[49m\u001B[43m \u001B[49m\u001B[43mfill_value\u001B[49m\u001B[43m)\u001B[49m\n",
      "File \u001B[1;32m~\\anaconda3\\envs\\myenv\\lib\\site-packages\\pandas\\core\\reshape\\reshape.py:485\u001B[0m, in \u001B[0;36munstack\u001B[1;34m(obj, level, fill_value)\u001B[0m\n\u001B[0;32m    480\u001B[0m         \u001B[38;5;28;01mreturn\u001B[39;00m obj\u001B[38;5;241m.\u001B[39mT\u001B[38;5;241m.\u001B[39mstack(dropna\u001B[38;5;241m=\u001B[39m\u001B[38;5;28;01mFalse\u001B[39;00m)\n\u001B[0;32m    481\u001B[0m \u001B[38;5;28;01melif\u001B[39;00m \u001B[38;5;129;01mnot\u001B[39;00m \u001B[38;5;28misinstance\u001B[39m(obj\u001B[38;5;241m.\u001B[39mindex, MultiIndex):\n\u001B[0;32m    482\u001B[0m     \u001B[38;5;66;03m# GH 36113\u001B[39;00m\n\u001B[0;32m    483\u001B[0m     \u001B[38;5;66;03m# Give nicer error messages when unstack a Series whose\u001B[39;00m\n\u001B[0;32m    484\u001B[0m     \u001B[38;5;66;03m# Index is not a MultiIndex.\u001B[39;00m\n\u001B[1;32m--> 485\u001B[0m     \u001B[38;5;28;01mraise\u001B[39;00m \u001B[38;5;167;01mValueError\u001B[39;00m(\n\u001B[0;32m    486\u001B[0m         \u001B[38;5;124mf\u001B[39m\u001B[38;5;124m\"\u001B[39m\u001B[38;5;124mindex must be a MultiIndex to unstack, \u001B[39m\u001B[38;5;132;01m{\u001B[39;00m\u001B[38;5;28mtype\u001B[39m(obj\u001B[38;5;241m.\u001B[39mindex)\u001B[38;5;132;01m}\u001B[39;00m\u001B[38;5;124m was passed\u001B[39m\u001B[38;5;124m\"\u001B[39m\n\u001B[0;32m    487\u001B[0m     )\n\u001B[0;32m    488\u001B[0m \u001B[38;5;28;01melse\u001B[39;00m:\n\u001B[0;32m    489\u001B[0m     \u001B[38;5;28;01mif\u001B[39;00m is_1d_only_ea_dtype(obj\u001B[38;5;241m.\u001B[39mdtype):\n",
      "\u001B[1;31mValueError\u001B[0m: index must be a MultiIndex to unstack, <class 'pandas.core.indexes.numeric.Int64Index'> was passed"
     ]
    },
    {
     "data": {
      "image/png": "[encoded data removed]",
      "text/plain": [
       "<Figure size 1080x648 with 1 Axes>"
      ]
     },
     "metadata": {
      "needs_background": "light"
     },
     "output_type": "display_data"
    }
   ],
   "source": [
    "fig6, ax = plt.subplots(figsize=(15,9))\n",
    "fig6=Noise2.groupby(['TVLDIA']).mean()['POBEXT'].unstack().plot(ax=ax)\n",
    "plt.title(\"Personas afectadas en facha exterior por ruido de trafico viario\")\n",
    "plt.ylabel(\"Ruido trafico viario (dB)\")\n",
    "plt.xlabel(\"Personas en exterior\")"
   ]
  },
  {
   "cell_type": "code",
   "execution_count": null,
   "metadata": {
    "pycharm": {
     "name": "#%%\n"
    }
   },
   "outputs": [],
   "source": []
  }
 ],
 "metadata": {
  "kernelspec": {
   "display_name": "Python 3 (ipykernel)",
   "language": "python",
   "name": "python3"
  },
  "language_info": {
   "codemirror_mode": {
    "name": "ipython",
    "version": 3
   },
   "file_extension": ".py",
   "mimetype": "text/x-python",
   "name": "python",
   "nbconvert_exporter": "python",
   "pygments_lexer": "ipython3",
   "version": "3.9.12"
  }
 },
 "nbformat": 4,
 "nbformat_minor": 1
}